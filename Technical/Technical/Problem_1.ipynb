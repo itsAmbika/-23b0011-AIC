{
  "cells": [
    {
      "cell_type": "code",
      "metadata": {
        "colab": {
          "base_uri": "https://localhost:8080/"
        },
        "id": "vAb0cIEq-FLy",
        "outputId": "0829bf2c-3f28-45c4-b418-89cfa7ce4ef0"
      },
      "source": [
        "# Step 1: Install Dependencies\n",
        "!pip install transformers datasets scikit-learn matplotlib nltk"
      ],
      "execution_count": null,
      "outputs": [
        {
          "output_type": "stream",
          "name": "stdout",
          "text": [
            "Requirement already satisfied: transformers in /usr/local/lib/python3.11/dist-packages (4.51.3)\n",
            "Requirement already satisfied: datasets in /usr/local/lib/python3.11/dist-packages (2.14.4)\n",
            "Requirement already satisfied: scikit-learn in /usr/local/lib/python3.11/dist-packages (1.6.1)\n",
            "Requirement already satisfied: matplotlib in /usr/local/lib/python3.11/dist-packages (3.10.0)\n",
            "Requirement already satisfied: nltk in /usr/local/lib/python3.11/dist-packages (3.9.1)\n",
            "Requirement already satisfied: filelock in /usr/local/lib/python3.11/dist-packages (from transformers) (3.18.0)\n",
            "Requirement already satisfied: huggingface-hub<1.0,>=0.30.0 in /usr/local/lib/python3.11/dist-packages (from transformers) (0.31.2)\n",
            "Requirement already satisfied: numpy>=1.17 in /usr/local/lib/python3.11/dist-packages (from transformers) (2.0.2)\n",
            "Requirement already satisfied: packaging>=20.0 in /usr/local/lib/python3.11/dist-packages (from transformers) (24.2)\n",
            "Requirement already satisfied: pyyaml>=5.1 in /usr/local/lib/python3.11/dist-packages (from transformers) (6.0.2)\n",
            "Requirement already satisfied: regex!=2019.12.17 in /usr/local/lib/python3.11/dist-packages (from transformers) (2024.11.6)\n",
            "Requirement already satisfied: requests in /usr/local/lib/python3.11/dist-packages (from transformers) (2.32.3)\n",
            "Requirement already satisfied: tokenizers<0.22,>=0.21 in /usr/local/lib/python3.11/dist-packages (from transformers) (0.21.1)\n",
            "Requirement already satisfied: safetensors>=0.4.3 in /usr/local/lib/python3.11/dist-packages (from transformers) (0.5.3)\n",
            "Requirement already satisfied: tqdm>=4.27 in /usr/local/lib/python3.11/dist-packages (from transformers) (4.67.1)\n",
            "Requirement already satisfied: pyarrow>=8.0.0 in /usr/local/lib/python3.11/dist-packages (from datasets) (18.1.0)\n",
            "Requirement already satisfied: dill<0.3.8,>=0.3.0 in /usr/local/lib/python3.11/dist-packages (from datasets) (0.3.7)\n",
            "Requirement already satisfied: pandas in /usr/local/lib/python3.11/dist-packages (from datasets) (2.2.2)\n",
            "Requirement already satisfied: xxhash in /usr/local/lib/python3.11/dist-packages (from datasets) (3.5.0)\n",
            "Requirement already satisfied: multiprocess in /usr/local/lib/python3.11/dist-packages (from datasets) (0.70.15)\n",
            "Requirement already satisfied: fsspec>=2021.11.1 in /usr/local/lib/python3.11/dist-packages (from fsspec[http]>=2021.11.1->datasets) (2025.3.2)\n",
            "Requirement already satisfied: aiohttp in /usr/local/lib/python3.11/dist-packages (from datasets) (3.11.15)\n",
            "Requirement already satisfied: scipy>=1.6.0 in /usr/local/lib/python3.11/dist-packages (from scikit-learn) (1.15.3)\n",
            "Requirement already satisfied: joblib>=1.2.0 in /usr/local/lib/python3.11/dist-packages (from scikit-learn) (1.5.0)\n",
            "Requirement already satisfied: threadpoolctl>=3.1.0 in /usr/local/lib/python3.11/dist-packages (from scikit-learn) (3.6.0)\n",
            "Requirement already satisfied: contourpy>=1.0.1 in /usr/local/lib/python3.11/dist-packages (from matplotlib) (1.3.2)\n",
            "Requirement already satisfied: cycler>=0.10 in /usr/local/lib/python3.11/dist-packages (from matplotlib) (0.12.1)\n",
            "Requirement already satisfied: fonttools>=4.22.0 in /usr/local/lib/python3.11/dist-packages (from matplotlib) (4.58.0)\n",
            "Requirement already satisfied: kiwisolver>=1.3.1 in /usr/local/lib/python3.11/dist-packages (from matplotlib) (1.4.8)\n",
            "Requirement already satisfied: pillow>=8 in /usr/local/lib/python3.11/dist-packages (from matplotlib) (11.2.1)\n",
            "Requirement already satisfied: pyparsing>=2.3.1 in /usr/local/lib/python3.11/dist-packages (from matplotlib) (3.2.3)\n",
            "Requirement already satisfied: python-dateutil>=2.7 in /usr/local/lib/python3.11/dist-packages (from matplotlib) (2.9.0.post0)\n",
            "Requirement already satisfied: click in /usr/local/lib/python3.11/dist-packages (from nltk) (8.2.0)\n",
            "Requirement already satisfied: aiohappyeyeballs>=2.3.0 in /usr/local/lib/python3.11/dist-packages (from aiohttp->datasets) (2.6.1)\n",
            "Requirement already satisfied: aiosignal>=1.1.2 in /usr/local/lib/python3.11/dist-packages (from aiohttp->datasets) (1.3.2)\n",
            "Requirement already satisfied: attrs>=17.3.0 in /usr/local/lib/python3.11/dist-packages (from aiohttp->datasets) (25.3.0)\n",
            "Requirement already satisfied: frozenlist>=1.1.1 in /usr/local/lib/python3.11/dist-packages (from aiohttp->datasets) (1.6.0)\n",
            "Requirement already satisfied: multidict<7.0,>=4.5 in /usr/local/lib/python3.11/dist-packages (from aiohttp->datasets) (6.4.3)\n",
            "Requirement already satisfied: propcache>=0.2.0 in /usr/local/lib/python3.11/dist-packages (from aiohttp->datasets) (0.3.1)\n",
            "Requirement already satisfied: yarl<2.0,>=1.17.0 in /usr/local/lib/python3.11/dist-packages (from aiohttp->datasets) (1.20.0)\n",
            "Requirement already satisfied: typing-extensions>=3.7.4.3 in /usr/local/lib/python3.11/dist-packages (from huggingface-hub<1.0,>=0.30.0->transformers) (4.13.2)\n",
            "Requirement already satisfied: six>=1.5 in /usr/local/lib/python3.11/dist-packages (from python-dateutil>=2.7->matplotlib) (1.17.0)\n",
            "Requirement already satisfied: charset-normalizer<4,>=2 in /usr/local/lib/python3.11/dist-packages (from requests->transformers) (3.4.2)\n",
            "Requirement already satisfied: idna<4,>=2.5 in /usr/local/lib/python3.11/dist-packages (from requests->transformers) (3.10)\n",
            "Requirement already satisfied: urllib3<3,>=1.21.1 in /usr/local/lib/python3.11/dist-packages (from requests->transformers) (2.4.0)\n",
            "Requirement already satisfied: certifi>=2017.4.17 in /usr/local/lib/python3.11/dist-packages (from requests->transformers) (2025.4.26)\n",
            "Requirement already satisfied: pytz>=2020.1 in /usr/local/lib/python3.11/dist-packages (from pandas->datasets) (2025.2)\n",
            "Requirement already satisfied: tzdata>=2022.7 in /usr/local/lib/python3.11/dist-packages (from pandas->datasets) (2025.2)\n"
          ]
        }
      ]
    },
    {
      "cell_type": "markdown",
      "source": [
        "**Uploading the dataset it contains two columns Category and Text**"
      ],
      "metadata": {
        "id": "gy9E0fDIletD"
      }
    },
    {
      "cell_type": "code",
      "metadata": {
        "colab": {
          "base_uri": "https://localhost:8080/"
        },
        "id": "8UVEx7Wf-FL0",
        "outputId": "c7ec53a4-76d8-40ab-8ac7-44336f452e5a"
      },
      "source": [
        "from google.colab import drive\n",
        "drive.mount('/content/drive')\n",
        "\n",
        "import pandas as pd\n",
        "df = pd.read_csv('/content/drive/MyDrive/equity research/train.csv')\n",
        "\n"
      ],
      "execution_count": null,
      "outputs": [
        {
          "output_type": "stream",
          "name": "stdout",
          "text": [
            "Mounted at /content/drive\n"
          ]
        }
      ]
    },
    {
      "cell_type": "code",
      "source": [
        "df.head()"
      ],
      "metadata": {
        "colab": {
          "base_uri": "https://localhost:8080/",
          "height": 206
        },
        "id": "weEle6DA_kuU",
        "outputId": "82cc96e4-d93a-4a3d-e6d0-8c606e32e96e"
      },
      "execution_count": null,
      "outputs": [
        {
          "output_type": "execute_result",
          "data": {
            "text/plain": [
              "     Category                                               Text\n",
              "0  Accountant  education omba executive leadership university...\n",
              "1  Accountant  howard gerrard accountant deyjobcom birmingham...\n",
              "2  Accountant  kevin frank senior accountant inforesumekraftc...\n",
              "3  Accountant  place birth nationality olivia ogilvy accounta...\n",
              "4  Accountant  stephen greet cpa senior accountant 9 year exp..."
            ],
            "text/html": [
              "\n",
              "  <div id=\"df-b64ce10b-7018-4723-89bc-869a434e95cb\" class=\"colab-df-container\">\n",
              "    <div>\n",
              "<style scoped>\n",
              "    .dataframe tbody tr th:only-of-type {\n",
              "        vertical-align: middle;\n",
              "    }\n",
              "\n",
              "    .dataframe tbody tr th {\n",
              "        vertical-align: top;\n",
              "    }\n",
              "\n",
              "    .dataframe thead th {\n",
              "        text-align: right;\n",
              "    }\n",
              "</style>\n",
              "<table border=\"1\" class=\"dataframe\">\n",
              "  <thead>\n",
              "    <tr style=\"text-align: right;\">\n",
              "      <th></th>\n",
              "      <th>Category</th>\n",
              "      <th>Text</th>\n",
              "    </tr>\n",
              "  </thead>\n",
              "  <tbody>\n",
              "    <tr>\n",
              "      <th>0</th>\n",
              "      <td>Accountant</td>\n",
              "      <td>education omba executive leadership university...</td>\n",
              "    </tr>\n",
              "    <tr>\n",
              "      <th>1</th>\n",
              "      <td>Accountant</td>\n",
              "      <td>howard gerrard accountant deyjobcom birmingham...</td>\n",
              "    </tr>\n",
              "    <tr>\n",
              "      <th>2</th>\n",
              "      <td>Accountant</td>\n",
              "      <td>kevin frank senior accountant inforesumekraftc...</td>\n",
              "    </tr>\n",
              "    <tr>\n",
              "      <th>3</th>\n",
              "      <td>Accountant</td>\n",
              "      <td>place birth nationality olivia ogilvy accounta...</td>\n",
              "    </tr>\n",
              "    <tr>\n",
              "      <th>4</th>\n",
              "      <td>Accountant</td>\n",
              "      <td>stephen greet cpa senior accountant 9 year exp...</td>\n",
              "    </tr>\n",
              "  </tbody>\n",
              "</table>\n",
              "</div>\n",
              "    <div class=\"colab-df-buttons\">\n",
              "\n",
              "  <div class=\"colab-df-container\">\n",
              "    <button class=\"colab-df-convert\" onclick=\"convertToInteractive('df-b64ce10b-7018-4723-89bc-869a434e95cb')\"\n",
              "            title=\"Convert this dataframe to an interactive table.\"\n",
              "            style=\"display:none;\">\n",
              "\n",
              "  <svg xmlns=\"http://www.w3.org/2000/svg\" height=\"24px\" viewBox=\"0 -960 960 960\">\n",
              "    <path d=\"M120-120v-720h720v720H120Zm60-500h600v-160H180v160Zm220 220h160v-160H400v160Zm0 220h160v-160H400v160ZM180-400h160v-160H180v160Zm440 0h160v-160H620v160ZM180-180h160v-160H180v160Zm440 0h160v-160H620v160Z\"/>\n",
              "  </svg>\n",
              "    </button>\n",
              "\n",
              "  <style>\n",
              "    .colab-df-container {\n",
              "      display:flex;\n",
              "      gap: 12px;\n",
              "    }\n",
              "\n",
              "    .colab-df-convert {\n",
              "      background-color: #E8F0FE;\n",
              "      border: none;\n",
              "      border-radius: 50%;\n",
              "      cursor: pointer;\n",
              "      display: none;\n",
              "      fill: #1967D2;\n",
              "      height: 32px;\n",
              "      padding: 0 0 0 0;\n",
              "      width: 32px;\n",
              "    }\n",
              "\n",
              "    .colab-df-convert:hover {\n",
              "      background-color: #E2EBFA;\n",
              "      box-shadow: 0px 1px 2px rgba(60, 64, 67, 0.3), 0px 1px 3px 1px rgba(60, 64, 67, 0.15);\n",
              "      fill: #174EA6;\n",
              "    }\n",
              "\n",
              "    .colab-df-buttons div {\n",
              "      margin-bottom: 4px;\n",
              "    }\n",
              "\n",
              "    [theme=dark] .colab-df-convert {\n",
              "      background-color: #3B4455;\n",
              "      fill: #D2E3FC;\n",
              "    }\n",
              "\n",
              "    [theme=dark] .colab-df-convert:hover {\n",
              "      background-color: #434B5C;\n",
              "      box-shadow: 0px 1px 3px 1px rgba(0, 0, 0, 0.15);\n",
              "      filter: drop-shadow(0px 1px 2px rgba(0, 0, 0, 0.3));\n",
              "      fill: #FFFFFF;\n",
              "    }\n",
              "  </style>\n",
              "\n",
              "    <script>\n",
              "      const buttonEl =\n",
              "        document.querySelector('#df-b64ce10b-7018-4723-89bc-869a434e95cb button.colab-df-convert');\n",
              "      buttonEl.style.display =\n",
              "        google.colab.kernel.accessAllowed ? 'block' : 'none';\n",
              "\n",
              "      async function convertToInteractive(key) {\n",
              "        const element = document.querySelector('#df-b64ce10b-7018-4723-89bc-869a434e95cb');\n",
              "        const dataTable =\n",
              "          await google.colab.kernel.invokeFunction('convertToInteractive',\n",
              "                                                    [key], {});\n",
              "        if (!dataTable) return;\n",
              "\n",
              "        const docLinkHtml = 'Like what you see? Visit the ' +\n",
              "          '<a target=\"_blank\" href=https://colab.research.google.com/notebooks/data_table.ipynb>data table notebook</a>'\n",
              "          + ' to learn more about interactive tables.';\n",
              "        element.innerHTML = '';\n",
              "        dataTable['output_type'] = 'display_data';\n",
              "        await google.colab.output.renderOutput(dataTable, element);\n",
              "        const docLink = document.createElement('div');\n",
              "        docLink.innerHTML = docLinkHtml;\n",
              "        element.appendChild(docLink);\n",
              "      }\n",
              "    </script>\n",
              "  </div>\n",
              "\n",
              "\n",
              "    <div id=\"df-6599860c-4911-440c-bcaf-c247a749f194\">\n",
              "      <button class=\"colab-df-quickchart\" onclick=\"quickchart('df-6599860c-4911-440c-bcaf-c247a749f194')\"\n",
              "                title=\"Suggest charts\"\n",
              "                style=\"display:none;\">\n",
              "\n",
              "<svg xmlns=\"http://www.w3.org/2000/svg\" height=\"24px\"viewBox=\"0 0 24 24\"\n",
              "     width=\"24px\">\n",
              "    <g>\n",
              "        <path d=\"M19 3H5c-1.1 0-2 .9-2 2v14c0 1.1.9 2 2 2h14c1.1 0 2-.9 2-2V5c0-1.1-.9-2-2-2zM9 17H7v-7h2v7zm4 0h-2V7h2v10zm4 0h-2v-4h2v4z\"/>\n",
              "    </g>\n",
              "</svg>\n",
              "      </button>\n",
              "\n",
              "<style>\n",
              "  .colab-df-quickchart {\n",
              "      --bg-color: #E8F0FE;\n",
              "      --fill-color: #1967D2;\n",
              "      --hover-bg-color: #E2EBFA;\n",
              "      --hover-fill-color: #174EA6;\n",
              "      --disabled-fill-color: #AAA;\n",
              "      --disabled-bg-color: #DDD;\n",
              "  }\n",
              "\n",
              "  [theme=dark] .colab-df-quickchart {\n",
              "      --bg-color: #3B4455;\n",
              "      --fill-color: #D2E3FC;\n",
              "      --hover-bg-color: #434B5C;\n",
              "      --hover-fill-color: #FFFFFF;\n",
              "      --disabled-bg-color: #3B4455;\n",
              "      --disabled-fill-color: #666;\n",
              "  }\n",
              "\n",
              "  .colab-df-quickchart {\n",
              "    background-color: var(--bg-color);\n",
              "    border: none;\n",
              "    border-radius: 50%;\n",
              "    cursor: pointer;\n",
              "    display: none;\n",
              "    fill: var(--fill-color);\n",
              "    height: 32px;\n",
              "    padding: 0;\n",
              "    width: 32px;\n",
              "  }\n",
              "\n",
              "  .colab-df-quickchart:hover {\n",
              "    background-color: var(--hover-bg-color);\n",
              "    box-shadow: 0 1px 2px rgba(60, 64, 67, 0.3), 0 1px 3px 1px rgba(60, 64, 67, 0.15);\n",
              "    fill: var(--button-hover-fill-color);\n",
              "  }\n",
              "\n",
              "  .colab-df-quickchart-complete:disabled,\n",
              "  .colab-df-quickchart-complete:disabled:hover {\n",
              "    background-color: var(--disabled-bg-color);\n",
              "    fill: var(--disabled-fill-color);\n",
              "    box-shadow: none;\n",
              "  }\n",
              "\n",
              "  .colab-df-spinner {\n",
              "    border: 2px solid var(--fill-color);\n",
              "    border-color: transparent;\n",
              "    border-bottom-color: var(--fill-color);\n",
              "    animation:\n",
              "      spin 1s steps(1) infinite;\n",
              "  }\n",
              "\n",
              "  @keyframes spin {\n",
              "    0% {\n",
              "      border-color: transparent;\n",
              "      border-bottom-color: var(--fill-color);\n",
              "      border-left-color: var(--fill-color);\n",
              "    }\n",
              "    20% {\n",
              "      border-color: transparent;\n",
              "      border-left-color: var(--fill-color);\n",
              "      border-top-color: var(--fill-color);\n",
              "    }\n",
              "    30% {\n",
              "      border-color: transparent;\n",
              "      border-left-color: var(--fill-color);\n",
              "      border-top-color: var(--fill-color);\n",
              "      border-right-color: var(--fill-color);\n",
              "    }\n",
              "    40% {\n",
              "      border-color: transparent;\n",
              "      border-right-color: var(--fill-color);\n",
              "      border-top-color: var(--fill-color);\n",
              "    }\n",
              "    60% {\n",
              "      border-color: transparent;\n",
              "      border-right-color: var(--fill-color);\n",
              "    }\n",
              "    80% {\n",
              "      border-color: transparent;\n",
              "      border-right-color: var(--fill-color);\n",
              "      border-bottom-color: var(--fill-color);\n",
              "    }\n",
              "    90% {\n",
              "      border-color: transparent;\n",
              "      border-bottom-color: var(--fill-color);\n",
              "    }\n",
              "  }\n",
              "</style>\n",
              "\n",
              "      <script>\n",
              "        async function quickchart(key) {\n",
              "          const quickchartButtonEl =\n",
              "            document.querySelector('#' + key + ' button');\n",
              "          quickchartButtonEl.disabled = true;  // To prevent multiple clicks.\n",
              "          quickchartButtonEl.classList.add('colab-df-spinner');\n",
              "          try {\n",
              "            const charts = await google.colab.kernel.invokeFunction(\n",
              "                'suggestCharts', [key], {});\n",
              "          } catch (error) {\n",
              "            console.error('Error during call to suggestCharts:', error);\n",
              "          }\n",
              "          quickchartButtonEl.classList.remove('colab-df-spinner');\n",
              "          quickchartButtonEl.classList.add('colab-df-quickchart-complete');\n",
              "        }\n",
              "        (() => {\n",
              "          let quickchartButtonEl =\n",
              "            document.querySelector('#df-6599860c-4911-440c-bcaf-c247a749f194 button');\n",
              "          quickchartButtonEl.style.display =\n",
              "            google.colab.kernel.accessAllowed ? 'block' : 'none';\n",
              "        })();\n",
              "      </script>\n",
              "    </div>\n",
              "\n",
              "    </div>\n",
              "  </div>\n"
            ],
            "application/vnd.google.colaboratory.intrinsic+json": {
              "type": "dataframe",
              "variable_name": "df",
              "summary": "{\n  \"name\": \"df\",\n  \"rows\": 13389,\n  \"fields\": [\n    {\n      \"column\": \"Category\",\n      \"properties\": {\n        \"dtype\": \"category\",\n        \"num_unique_values\": 43,\n        \"samples\": [\n          \"React Developer\",\n          \"Finance\",\n          \"Food and Beverages\"\n        ],\n        \"semantic_type\": \"\",\n        \"description\": \"\"\n      }\n    },\n    {\n      \"column\": \"Text\",\n      \"properties\": {\n        \"dtype\": \"string\",\n        \"num_unique_values\": 12085,\n        \"samples\": [\n          \"jessica claire montgomery street san francisco ca 94105 555 4321000 resumesampleexamplecom professional summary highly motivated determined individual seeking fulltime position previous financial purchasing construction project controlling experiences drive corporations goals toward success core qualifications proficient following software business applications sap pdm autocad dwg trueview hyperion financial manager sage timberline quickbooks word excel including vlookup pivot tables macros access powerpoint project outlook visio concerto illustration imaging page layout applications illustrator photoshop imageready adobe reader adobe acrobat kpt vector tools experience construction project manager 042015 present heartland dental okeechobee fl created analyzed implemented project definitions schedules budgets scopes work objectives multiple programs new construction projects developed project timelines execution strategies effectively match client expectations deadlines still maintaining profitable gross margin 30 actual cost final invoicing simultaneously managed multiple construction projects service events tours involving launch new programs construction projects refurbishment existing inventory integration new graphics components configurations presaleproposal execution completion onsite duties included site staffing oversight install dismantle well ensuring compliance tradeshow regulations issued work orders shop production consistent signed quote budgetary guidelines effectively converting selling language quotework tasks production language garnered extensive knowledge areas general construction metal fabrications electrical knowledge theatrical commercial lighting paint systems special finishes digital photographic processes graphic production draw perspectives union jurisdictions estimating techniques pricing costing principles purchasing processes financial reporting project controlleraccountant intern 112014 032015 ledcor minneapolis mn managed project controller duties including developing project budgets analyzing project costtorevenue records presenting weeklymonthly project review reports upper management maintained corporate general ledger account reconciliations journal entries project reclassifications daily banking inquiries assisted cfocontroller maintaining kpi files well developing new department metrics coordinated multiple responsibilities accounts receivable including updating creating sales orders invoicing commissions posting cash receipts conducted accounts payable duties payment runs processing invoices auditing expense reports assisted payroll tracking labor hours 325 employees purchasing analyst intern 062014 112014 thyssenkrupp system engineering city state implemented strategies eliminating internal external ncmrs resulting savings 6 million annually sourced products raw materials higher quality lower cost structures consistent business objectives ensured efficient product flow partnering suppliers distribution centers shipment tracking maintain plant operations accommodating time sensitive needs customers conducted internal external plant surveys analyze production flow profitability levels recommending systems reduce overhead streamline designed supplier bidding website joint effort purchasing managers completed website minimal cost developed procedures controls united purchasing thus eliminating excessive expenditure project controller 062012 062014 rock building co inc city state developed cost estimates evaluating construction quotes material estimates applying historical costs current costs updating pricing schedules controlled project expenses classifying evaluating project expenditures comparing expenditures project budgets analyzing purchases assessing cost trends selected subcontractors evaluating bids locating qualifying subcontractors attaining maintaining subcontractor documentation inspecting adherence drawings specifications schedules guided project operations developing writing updating policies procedures guidelines maintained efficient production flow developing monitoring inventory systems education bachelor science finance december 2016 oakland university rochester mi finance professional affiliations skills account reconciliations accounts payable accounts receivable adobe acrobat adobe photoshop streamline auditing autocad banking budgets cash receipts controller draw costing client documentation estimating expense reports financial financial reporting general ledger graphics graphic hyperion illustration illustrator imageready imaging inspecting inventory invoicing lighting macros materials access excel outlook powerpoint word new construction page layout paint payroll pdm pivot tables policies presenting pricing processes proposal purchasing quality quickbooks sage selling sales sap staffing surveys timberline visio website\",\n          \"jessica claire 100 montgomery st 10th floor 555 4321000 resumesampleexamplecom website portfolio profiles wwwjessicaeclairecom professional summary performancedriven creative multimedia designer extensive experience designing logos banners web design management producing multimedia animations editing videos developing digital elements videos performancedriven web developer intern motivated meet webbased needs assisted development testing mobile web based applications consistently recognized dependability multitasking skills proficient software goaloriented web developer brings strong commitment collaboration solutionsoriented problemsolving use various web design packages develop customcrafted customerfocused websites designs committed high standards user experience usability speed number years multiple users lends detailed knowledge seo increase visibility bringing number years experience leading website design projects including gathering user requirements producing code creating mockups enhancing designs focused creating clean robust code exceptional security achieves compatibility targets meeting exceeding customer demands logical resultsdriven web developer dedicated building optimizing userfocused websites customers various business objectives judicious creative crafting effective websites apps platforms propel competitive advantage revenue growth technically proficient analytical problem solver calm focused demeanor adobe creative cloud suite microsoft office google suite logo creation production postproduction work knowledge filming operating video camera equipment html css typography design principles skills strong multitasking time management skills motion graphics video editing experience pc mac operating systems web site design commitment high standards excellence illustration design web graphic design specialist 062017 current pnc financial services group inc camp hill pa work history completed full redesigns organizations two websites improve navigation enhance visuals strengthen search engine rankings collect define translate user requirements project designs implementation plans conceive build optimized landing pages html css integration crossbrowser compatibility deliver user support clients train educate answer questions team leader make sure deadlines met communicate committee members liaisons built user interface data visualizations designed overall user experience resulting number increase engagement designed website layouts templates unique branded looks created designs collaborated technical team complete projects employed design fundamentals selecting typography composition layout color design work developed creative solutions drove engagement published content aligned designs brand image meeting usability website standards took multitude roles including graphic design video editing web development mobile app creation provide range across projects edited transitions graphics voiceovers music corrected lighting coloring sound enhance footage create highquality videos filmed edited large conventions hundreds people utilized google analytics monitor websites digital content recommended strategies updated channels improve performance presented ux designs solutions senior staff evangelizing usercentric design decisions developed storyboards outlining animation plans production assistant 062016 032017 tastemade chicago il managed projects acquirement commission developed managed marketing content blogs promotional graphics videos social media facilitated communication departments achieve client objectives goals improved page content keyword relevancy branding achieve search engine optimization goals completed keyword research target clients based keyword targeting oversaw social media presence aligned posts include branding trending ideas production intern 032016 062016 little fishes swim school south barrington il completed keyword research target clients based keyword targeting developed network relationships increased awareness industry professionals promote services organized work meet demanding production goals coordinating documentation filings collaborated multifunctional roles communicate align development efforts quickly learned new skills applied daily tasks improving efficiency productivity cast member 082015 012016 walt disney world company city state ensured guest satisfaction promptly greeting attending seating guests resolved guest issues identifying source complaint formulating corrective action supervisor disney class human resource management cast engagement grade disney university education bachelor science digital media animation business 052015 alfred state suny college technology alfred ny deans list spring 2015 essentials imis rise web design certifications\",\n          \"jessica claire montgomery street san francisco ca 94105 555 4321000 resumesampleexamplecom summary proactive project manager experienced managing variety construction teams projects successful creating effective communication personnel general contractors management team baseline schedules creation building codes regulations blueprint fluency organized detailoriented relationship building microsoft office suite expert detailoriented held 100 success rate assigned projects highlights superb management skills budgeting forecasting process improvement organized resultsoriented cost control security systems knowledge troubleshooting accomplishments experience sr project manager 2010 current cmc icos biologics inc boulder co advise real estate team potential locations provide support design team rollouts identify constructability issues posed new design provide field support throughout project including regular site visits ensure compliance applicable codes laws rules regulations standards policies procedures including established safety procedures work brand partners ensure vendors contractors performing schedule quality monitor evaluate quality timeliness project take corrective action needed overall responsible brand budget quality defined project deliverables monitored status tasks delivered status reports stakeholders budgeting planning purposes collaborated crossfunctional teams draft project schedules plans qualified competitive subcontractor bids prior execution contracts facilitated processing rfis submittals samples among general contractor owner owners consultants educated general contractor personnel quality standards throughout construction process obtained notices completion compliance certifications construction administration consultants reviewed investigated proposed change order requests pcor performed construction site preinspections coordinated postconstruction audits led managed resolution issues project construction commissioning phases project managerconsultant 012010 fedex cross border olive branch ms monitor evaluate quality timeliness project take corrective action needed ensure compliance applicable codes laws rules regulations standards policies procedures including established safety procedures responsible site visits throughout project provide owner representation client establish manage maintain approved budget senior project manager 012009 012010 fedex cross border bethlehem pa responsible construction management new relocation remodeled stores responsible maintaining client relations exceeding expectations responsible estimating writing purchase orders change orders managing costs project solicit analyze bids construction companies subcontractors suppliers provide direction guidance technical assistance field team responsible team project managers project administrators monitor evaluate quality timeliness project take corrective action needed ensure compliance applicable codes laws rules regulations standards policies procedures including established safety procedures work new existing clients improve relations senior project manager 012005 012009 pearson north charleston sc provide owner representation luxottica retail lenscraftersunglass hut responsible construction management new relocation remodeled stores specialized open remodel tenant improvements solicit analyze bids construction companies subcontractors suppliers provide direction guidance technical assistance store general managers responsible site visits throughout project ensure compliance applicable codes laws rules regulations standards policies procedures including established safety procedures project manager 012000 012004 cvs health san antonio tx manage complete process sale close responsible subcontractors including hiring termination training develop weekly production schedule community maintain less 1 variance budget responsible daily inspections work responsible municipality government inspections regional facility manager 011997 012000 rock islandmilan school district 41 rock island il maintain three facilities 400000 square feet including finishing construction punch manage maintenance housekeeping locker room staff manage outside vendors contactors develop improvement project specifications bid packages reduced staff turnover building supervisor 011994 011997 trihealth pavilion city state maintain 110000 square foot facility including tenant build outs manage maintenance housekeeping departments develop annual building department budgets maintain hvac systems carpentry plumbing electrical systems spas pools develop preventative maintenance program building systems equipment responsible contracts contractors including specifications bid packages negotiations high school diploma marketing automotive 1990 william mason high school mason ohio construction trades technology certificate minor marketing student government representative microsoft office evoco buzzsaw plangrid sap education skills\"\n        ],\n        \"semantic_type\": \"\",\n        \"description\": \"\"\n      }\n    }\n  ]\n}"
            }
          },
          "metadata": {},
          "execution_count": 5
        }
      ]
    },
    {
      "cell_type": "markdown",
      "source": [
        "**Data Preprocessing\n",
        "Lowercasing, stop-word removal, lemmatization\n",
        "Encode labels**"
      ],
      "metadata": {
        "id": "71RcHH7IqC35"
      }
    },
    {
      "cell_type": "code",
      "metadata": {
        "colab": {
          "base_uri": "https://localhost:8080/"
        },
        "id": "4ON5p64m-FL0",
        "outputId": "cd563d3c-18e4-4df4-9b58-8370031f4558"
      },
      "source": [
        "# Step 3: Preprocessing\n",
        "import nltk\n",
        "import re\n",
        "from nltk.corpus import stopwords\n",
        "from nltk.stem import WordNetLemmatizer\n",
        "nltk.download('stopwords')\n",
        "nltk.download('wordnet')\n",
        "stop_words = set(stopwords.words('english'))\n",
        "lemmatizer = WordNetLemmatizer()\n",
        "\n",
        "def preprocess(text):\n",
        "    text = text.lower()\n",
        "    text = re.sub(r'[^a-zA-Z\\s]', '', text)\n",
        "    tokens = text.split()\n",
        "    tokens = [lemmatizer.lemmatize(word) for word in tokens if word not in stop_words]\n",
        "    return \" \".join(tokens)\n",
        "\n",
        "df['Clean_Text'] = df['Text'].apply(preprocess)"
      ],
      "execution_count": null,
      "outputs": [
        {
          "output_type": "stream",
          "name": "stderr",
          "text": [
            "[nltk_data] Downloading package stopwords to /root/nltk_data...\n",
            "[nltk_data]   Unzipping corpora/stopwords.zip.\n",
            "[nltk_data] Downloading package wordnet to /root/nltk_data...\n"
          ]
        }
      ]
    },
    {
      "cell_type": "markdown",
      "source": [
        "We're importing the NLTK library (Natural Language Toolkit), which is commonly used for text preprocessing.\n",
        "nltk: A natural language processing (NLP) library.\n",
        "\n",
        "re: Regular expressions module for pattern matching.\n",
        "\n",
        "stopwords: Commonly used words in a language (like \"the\", \"is\") that are often removed from text.\n",
        "\n",
        "WordNetLemmatizer: Used to reduce words to their base form (lemma), e.g., \"running\" → \"run\".\n",
        "\n",
        "This code cleans text data by converting it to lowercase, removing non-alphabetic characters, and eliminating stopwords. It then lemmatizes the remaining words to their base form. Finally, it applies this cleaning process to a column in a DataFrame and stores the result in a new column."
      ],
      "metadata": {
        "id": "-xq0mYM-reoA"
      }
    },
    {
      "cell_type": "markdown",
      "source": [
        "**Label Encoding**"
      ],
      "metadata": {
        "id": "rnk5r8Gys7Nq"
      }
    },
    {
      "cell_type": "code",
      "metadata": {
        "id": "7e9LrL2e-FL0"
      },
      "source": [
        "\n",
        "from sklearn.preprocessing import LabelEncoder\n",
        "le = LabelEncoder()\n",
        "df['Encoded_Label'] = le.fit_transform(df['Category'])\n",
        "num_labels = df['Encoded_Label'].nunique()"
      ],
      "execution_count": null,
      "outputs": []
    },
    {
      "cell_type": "markdown",
      "source": [
        "This code converts text labels in the 'Category' column into numbers using LabelEncoder, making them easier for machine learning models to understand. The new numeric labels are stored in a column called 'Encoded_Label'. It also counts how many unique labels are present using nunique().\n",
        "\n",
        "\n",
        "\n",
        "\n",
        "\n",
        "\n",
        "\n"
      ],
      "metadata": {
        "id": "RiQkRIs8s4Hd"
      }
    },
    {
      "cell_type": "markdown",
      "source": [
        "**Before feeding our cleaned text into the BERT model, we need to convert it into a format BERT understands**"
      ],
      "metadata": {
        "id": "8GzuAfa4uR01"
      }
    },
    {
      "cell_type": "code",
      "metadata": {
        "colab": {
          "base_uri": "https://localhost:8080/",
          "height": 254,
          "referenced_widgets": [
            "3184d575cb804a519397d1e6728624dd",
            "d36b7e303a9b46cb9ac545a9d3395f70",
            "cdc982073b9244a882815da7e6113fea",
            "b03ed364405445e1b5f0ed8757f32f98",
            "89a7f3de9f62499882aa1c16a6b168dc",
            "a1456176d80648aaac75fe6cb0c0d8df",
            "bdcfbf19663048feb6696f7b2883c4c9",
            "fa564ebc37134fd999de9551f331aa29",
            "abbc198c2bb64465a21bbec389ee6dc0",
            "7199d2009180451dbb9e856fc8234727",
            "46e1df6bb23f41cab543bfd0c56dcdf4",
            "3cd0afdfd0284b619977fd888272d12a",
            "70883c3ca9da41538e64b3b86a0bb070",
            "2d16cbd0f3314873babd6d49257164f2",
            "7cc10b99773c49f2b1f718b5f071b46b",
            "2456cc2c02034f56bac4ba071e194323",
            "f991ec40bc8c4b55938bc5a98ccf7540",
            "d298a3c5bf964a9f8f04670ad40895b2",
            "63d1ad3781134db987dabe64357e990c",
            "6c1753c46fa346019554bf9b89aa6d28",
            "a400254737654badab3fc028109e7e63",
            "ddfeb47af4f242009fb933bd2fa2af31",
            "70d6f9211b49479c9176005d7e0e0250",
            "3724b7350cd247ad81a0fa5c17768b54",
            "9510a45a9a77480da810ee17aa5b672a",
            "cba4f8e87f3543f584ccc0fc58068d0a",
            "1bba4a69fbc64e3090caa2dafb515e5f",
            "9d8847c1238b4e82938c3c2978ee9a3c",
            "9c00925681754d1286759245035a97d3",
            "d3c5e35bac3f4e6098ddca8e199b68f4",
            "dec8ec73ac504afba5fd8870722e8494",
            "1eb766083f9b4c2b8b8942e3101c9984",
            "99d54feea6e04ba6befedda401254d1a",
            "f22770631b6548e794254aaaaf1d0d7e",
            "f14164e6db864750affde05879539b34",
            "edf6480bdcad40a88ac5b75d735cf707",
            "b1c8873e4f1446aca2624524231088f8",
            "eb624ba227734c92bbdb385810f65a49",
            "a2e21afe82334a67b594a8eba0d62807",
            "84933dc8075c4e28a0d0f7be8706c8e4",
            "57da9d20236644b4b74bb372f794a12b",
            "57e94d0209364366987b9e4158bee342",
            "b51714a9593d42e89fcc7355c53e3f31",
            "76be37ea99f84735896bde7e61e95c2c"
          ]
        },
        "id": "G0D0bicg-FL1",
        "outputId": "f67f122e-076b-4262-d01c-b87f2c03f6b3"
      },
      "source": [
        "\n",
        "from transformers import BertTokenizer\n",
        "tokenizer = BertTokenizer.from_pretrained('bert-base-uncased')\n",
        "\n",
        "tokens = tokenizer(\n",
        "    list(df['Clean_Text']),\n",
        "    max_length=128,\n",
        "    padding='max_length',\n",
        "    truncation=True,\n",
        "    return_tensors='pt'\n",
        ")"
      ],
      "execution_count": null,
      "outputs": [
        {
          "output_type": "stream",
          "name": "stderr",
          "text": [
            "/usr/local/lib/python3.11/dist-packages/huggingface_hub/utils/_auth.py:94: UserWarning: \n",
            "The secret `HF_TOKEN` does not exist in your Colab secrets.\n",
            "To authenticate with the Hugging Face Hub, create a token in your settings tab (https://huggingface.co/settings/tokens), set it as secret in your Google Colab and restart your session.\n",
            "You will be able to reuse this secret in all of your notebooks.\n",
            "Please note that authentication is recommended but still optional to access public models or datasets.\n",
            "  warnings.warn(\n"
          ]
        },
        {
          "output_type": "display_data",
          "data": {
            "text/plain": [
              "tokenizer_config.json:   0%|          | 0.00/48.0 [00:00<?, ?B/s]"
            ],
            "application/vnd.jupyter.widget-view+json": {
              "version_major": 2,
              "version_minor": 0,
              "model_id": "3184d575cb804a519397d1e6728624dd"
            }
          },
          "metadata": {}
        },
        {
          "output_type": "display_data",
          "data": {
            "text/plain": [
              "vocab.txt:   0%|          | 0.00/232k [00:00<?, ?B/s]"
            ],
            "application/vnd.jupyter.widget-view+json": {
              "version_major": 2,
              "version_minor": 0,
              "model_id": "3cd0afdfd0284b619977fd888272d12a"
            }
          },
          "metadata": {}
        },
        {
          "output_type": "display_data",
          "data": {
            "text/plain": [
              "tokenizer.json:   0%|          | 0.00/466k [00:00<?, ?B/s]"
            ],
            "application/vnd.jupyter.widget-view+json": {
              "version_major": 2,
              "version_minor": 0,
              "model_id": "70d6f9211b49479c9176005d7e0e0250"
            }
          },
          "metadata": {}
        },
        {
          "output_type": "display_data",
          "data": {
            "text/plain": [
              "config.json:   0%|          | 0.00/570 [00:00<?, ?B/s]"
            ],
            "application/vnd.jupyter.widget-view+json": {
              "version_major": 2,
              "version_minor": 0,
              "model_id": "f22770631b6548e794254aaaaf1d0d7e"
            }
          },
          "metadata": {}
        }
      ]
    },
    {
      "cell_type": "markdown",
      "source": [
        "This code changes the cleaned text into a format that BERT can understand. It first loads a ready-to-use BERT tokenizer (bert-base-uncased) that breaks text into small word-pieces and makes everything lowercase. Then it processes all texts in the 'Clean_Text' column by:\n",
        "\n",
        "Making all texts the same length (short ones are padded, long ones are cut at 128 words).\n",
        "\n",
        "Turning the text into numbers that BERT can read.\n",
        "\n",
        "Giving the result in PyTorch format to use with BERT models."
      ],
      "metadata": {
        "id": "32KXnUDQxnbo"
      }
    },
    {
      "cell_type": "markdown",
      "source": [
        "**Reducing Dataset Size to Save Time During Hyperparameter Tuning**"
      ],
      "metadata": {
        "id": "d4QtjP9zyxBx"
      }
    },
    {
      "cell_type": "code",
      "metadata": {
        "id": "1rAJ2pxG-FL1"
      },
      "source": [
        "# Step 6: Dataset and DataLoader\n",
        "import torch\n",
        "from torch.utils.data import Dataset, DataLoader, random_split\n",
        "\n",
        "class TextDataset(Dataset):\n",
        "    def __init__(self, tokens, labels):\n",
        "        self.tokens = tokens\n",
        "        self.labels = labels\n",
        "    def __len__(self):\n",
        "        return len(self.labels)\n",
        "    def __getitem__(self, idx):\n",
        "        return {\n",
        "            'input_ids': self.tokens['input_ids'][idx],\n",
        "            'attention_mask': self.tokens['attention_mask'][idx],\n",
        "            'labels': torch.tensor(self.labels[idx])\n",
        "        }\n",
        "\n",
        "full_dataset = TextDataset(tokens, df['Encoded_Label'].tolist())\n",
        "subset_size = int(0.2 * len(full_dataset))\n",
        "subset, _ = random_split(full_dataset, [subset_size, len(full_dataset) - subset_size])"
      ],
      "execution_count": null,
      "outputs": []
    },
    {
      "cell_type": "markdown",
      "source": [
        "This code prepares a smaller dataset to speed up training and testing when trying different hyperparameter combinations (like learning rate, batch size, etc.), which can be computationally expensive.\n",
        "\n",
        "A custom TextDataset class is created to hold tokenized text and labels, making it compatible with PyTorch models.\n",
        "\n",
        "The full dataset is built from BERT tokens and their encoded labels.\n",
        "\n",
        "Only 20% of the data is selected randomly using random_split() to form a smaller subset, reducing training time while still allowing meaningful model evaluation."
      ],
      "metadata": {
        "id": "ckadlA0Iy0na"
      }
    },
    {
      "cell_type": "markdown",
      "source": [
        "**Training and Evaluating a BERT Model**"
      ],
      "metadata": {
        "id": "we7ckW5owK7p"
      }
    },
    {
      "cell_type": "code",
      "metadata": {
        "id": "VtceCcs0-FL1"
      },
      "source": [
        "# Step 7: Hyperparameter tuning\n",
        "from transformers import BertForSequenceClassification\n",
        "from torch.optim import AdamW\n",
        "from sklearn.metrics import accuracy_score, f1_score, precision_score, recall_score\n",
        "import matplotlib.pyplot as plt\n",
        "\n",
        "def train_eval_model(lr, batch_size, epochs):\n",
        "    train_size = int(0.8 * len(subset))   #Takes 80% of the subset for training and 20% for validation.\n",
        "    train_dl = DataLoader(train_ds, batch_size=batch_size, shuffle=True)\n",
        "    val_dl = DataLoader(val_ds, batch_size=batch_size)  #Creates DataLoaders to feed data to the model in batches (train_dl and val_dl).\n",
        "\n",
        "    model = BertForSequenceClassification.from_pretrained('bert-base-uncased', num_labels=num_labels)  #Loads a pretrained BERT model for classification.\n",
        "    device = torch.device('cuda' if torch.cuda.is_available() else 'cpu')\n",
        "    model.to(device)\n",
        "    optimizer = AdamW(model.parameters(), lr=lr)  #ets up the optimizer (AdamW) with the given learning rate.\n",
        "\n",
        "    train_losses, val_losses = [], []\n",
        "\n",
        "    for epoch in range(epochs):\n",
        "        model.train()\n",
        "        total_loss = 0\n",
        "        for batch in train_dl:\n",
        "            batch = {k: v.to(device) for k, v in batch.items()}\n",
        "            outputs = model(**batch)\n",
        "            loss = outputs.loss\n",
        "            loss.backward()\n",
        "            optimizer.step()\n",
        "            optimizer.zero_grad()\n",
        "            total_loss += loss.item()\n",
        "        train_losses.append(total_loss / len(train_dl))\n",
        "\n",
        "        model.eval()\n",
        "        val_loss = 0\n",
        "        all_preds, all_labels = [], []\n",
        "        with torch.no_grad():\n",
        "            for batch in val_dl:\n",
        "                batch = {k: v.to(device) for k, v in batch.items()}\n",
        "                outputs = model(**batch)\n",
        "                val_loss += outputs.loss.item()\n",
        "                preds = torch.argmax(outputs.logits, dim=1)\n",
        "                all_preds.extend(preds.cpu().numpy())\n",
        "                all_labels.extend(batch['labels'].cpu().numpy())\n",
        "        val_losses.append(val_loss / len(val_dl))\n",
        "\n",
        "    acc = accuracy_score(all_labels, all_preds)\n",
        "    prec = precision_score(all_labels, all_preds, average='weighted', zero_division=0)\n",
        "    rec = recall_score(all_labels, all_preds, average='weighted', zero_division=0)\n",
        "    f1 = f1_score(all_labels, all_preds, average='weighted', zero_division=0)\n",
        "    return train_losses, val_losses, acc, prec, rec, f1"
      ],
      "execution_count": null,
      "outputs": []
    },
    {
      "cell_type": "markdown",
      "source": [
        "**Training Loop (for each epoch)**\n",
        "\n",
        "Sets model to training mode.\n",
        "Loops through training batches, computes the loss, does backpropagation, and\n",
        "updates weights.\n",
        "Tracks average training loss for the epoch.\n",
        "\n",
        "**Validation Loop (after each epoch)**\n",
        "\n",
        "Sets model to evaluation mode (no learning here).\n",
        "Passes validation data without updating weights.\n",
        "Calculates validation loss and stores model predictions and true labels.\n",
        "\n",
        "**Accuracy**: how many predictions were correct\n",
        "\n",
        "**Precision**: how accurate the positive predictions are\n",
        "\n",
        "**Recall**: how well the model catches all correct positives\n",
        "\n",
        "**F1-Score**: balance between precision and recall explain this with example\n",
        "\n",
        "We are using adamW optimizer as AdamW helps the model learn faster and more smoothly by adjusting how much each part of the model updates during training. It works well for language tasks where not all words matter equally. It also helps prevent the model from overfitting, so it works better on new data.\n"
      ],
      "metadata": {
        "id": "FUwKk2_Y3mEQ"
      }
    },
    {
      "cell_type": "markdown",
      "source": [
        "**Run hyperparameter tuning**"
      ],
      "metadata": {
        "id": "qiD0aY3L2dJI"
      }
    },
    {
      "cell_type": "markdown",
      "source": [
        "We are testing model with different sets of hyperparameters learning rate=[1e-5, 3e-5] and batch size =[8,16] and testing its accuracy, precision, recall and f1 for every set we are keeping epoch as 3"
      ],
      "metadata": {
        "id": "w7zgD3x56DNP"
      }
    },
    {
      "cell_type": "code",
      "metadata": {
        "colab": {
          "base_uri": "https://localhost:8080/",
          "height": 618
        },
        "id": "MEu2AlfD-FL1",
        "outputId": "804d9a6d-5023-474a-f13d-a078f338b729"
      },
      "source": [
        "\n",
        "results = []\n",
        "for lr in [1e-5, 3e-5]:\n",
        "    for batch in [8, 16]:\n",
        "        train_losses, val_losses, acc, prec, rec, f1 = train_eval_model(lr, batch, epochs=3)\n",
        "        results.append({\n",
        "            'lr': lr, 'batch_size': batch, 'accuracy': acc, 'precision': prec, 'recall': rec, 'f1': f1\n",
        "        })\n",
        "        plt.plot(train_losses, label=f'Train lr={lr}, batch={batch}')\n",
        "        plt.plot(val_losses, label=f'Val lr={lr}, batch={batch}')\n",
        "\n",
        "plt.xlabel(\"Epoch\")\n",
        "plt.ylabel(\"Loss\")\n",
        "plt.title(\"Loss Curve (Subset)\")\n",
        "plt.legend()\n",
        "plt.show()"
      ],
      "execution_count": null,
      "outputs": [
        {
          "output_type": "stream",
          "name": "stderr",
          "text": [
            "Some weights of BertForSequenceClassification were not initialized from the model checkpoint at bert-base-uncased and are newly initialized: ['classifier.bias', 'classifier.weight']\n",
            "You should probably TRAIN this model on a down-stream task to be able to use it for predictions and inference.\n",
            "Some weights of BertForSequenceClassification were not initialized from the model checkpoint at bert-base-uncased and are newly initialized: ['classifier.bias', 'classifier.weight']\n",
            "You should probably TRAIN this model on a down-stream task to be able to use it for predictions and inference.\n",
            "Some weights of BertForSequenceClassification were not initialized from the model checkpoint at bert-base-uncased and are newly initialized: ['classifier.bias', 'classifier.weight']\n",
            "You should probably TRAIN this model on a down-stream task to be able to use it for predictions and inference.\n",
            "Some weights of BertForSequenceClassification were not initialized from the model checkpoint at bert-base-uncased and are newly initialized: ['classifier.bias', 'classifier.weight']\n",
            "You should probably TRAIN this model on a down-stream task to be able to use it for predictions and inference.\n"
          ]
        },
        {
          "output_type": "display_data",
          "data": {
            "text/plain": [
              "<Figure size 640x480 with 1 Axes>"
            ],
            "image/png": "[encoded data removed]"
          },
          "metadata": {}
        }
      ]
    },
    {
      "cell_type": "markdown",
      "source": [
        "All curves show a decreasing loss, indicating the model is learning,Both training and validation losses reduce consistently over 3 epochs.\n",
        "Best Performing Combo (lowest loss):\n",
        "\n",
        "Train lr=3e-05, batch=8\n",
        "\n",
        "Val lr=3e-05, batch=8\n",
        "\n",
        "These curves reach the lowest loss values, indicating this combo learns best on both train and val sets.\n",
        "\n",
        "Worst Performing Combo:\n",
        "\n",
        "Train lr=1e-05, batch=16\n",
        "\n",
        "Val lr=1e-05, batch=16\n",
        "\n",
        "These show the slowest learning and highest loss.\n"
      ],
      "metadata": {
        "id": "AEK3m99u9zEo"
      }
    },
    {
      "cell_type": "code",
      "source": [
        "import pandas as pd\n",
        "\n",
        "# Convert results list to a DataFrame\n",
        "df_results = pd.DataFrame(results)\n",
        "\n",
        "# Display the full table\n",
        "print(\"All hyperparameter combinations and their evaluation metrics:\")\n",
        "print(df_results)\n",
        "\n",
        "# Sort by F1 score to find the best configuration\n",
        "best_config = df_results.sort_values(by=\"f1\", ascending=False).head(1)\n",
        "print(\"\\nBest hyperparameter combination based on F1 score:\")\n",
        "print(best_config)\n"
      ],
      "metadata": {
        "colab": {
          "base_uri": "https://localhost:8080/"
        },
        "id": "XB-oSgiIFeq-",
        "outputId": "c3ce970e-4851-478d-a195-5c35b53bdec5"
      },
      "execution_count": null,
      "outputs": [
        {
          "output_type": "stream",
          "name": "stdout",
          "text": [
            "All hyperparameter combinations and their evaluation metrics:\n",
            "        lr  batch_size  accuracy  precision    recall        f1\n",
            "0  0.00001           8  0.649254   0.645924  0.649254  0.616462\n",
            "1  0.00001          16  0.604478   0.625651  0.604478  0.558733\n",
            "2  0.00003           8  0.755597   0.788073  0.755597  0.755168\n",
            "3  0.00003          16  0.744403   0.763552  0.744403  0.735739\n",
            "\n",
            "Best hyperparameter combination based on F1 score:\n",
            "        lr  batch_size  accuracy  precision    recall        f1\n",
            "2  0.00003           8  0.755597   0.788073  0.755597  0.755168\n"
          ]
        }
      ]
    },
    {
      "cell_type": "markdown",
      "source": [
        "Comparing all combinations of lrs and batch sizes-accuracy, precision, recall and f1"
      ],
      "metadata": {
        "id": "2uwwlc2X-wtg"
      }
    },
    {
      "cell_type": "markdown",
      "source": [
        "**With the best combination that is lr 0.00003 and batch size 8 we are training the model with full dataset**"
      ],
      "metadata": {
        "id": "69DUPjjV_HIz"
      }
    },
    {
      "cell_type": "code",
      "metadata": {
        "colab": {
          "base_uri": "https://localhost:8080/"
        },
        "id": "3xpZaXtW-FL2",
        "outputId": "f042c7b3-76c1-49c4-c955-162414bb7917"
      },
      "source": [
        "# Train final model\n",
        "import torch\n",
        "device = torch.device('cuda' if torch.cuda.is_available() else 'cpu')\n",
        "\n",
        "best_config = max(results, key=lambda x: x['f1'])\n",
        "print(\"Best config:\", best_config)\n",
        "\n",
        "train_size = int(0.8 * len(full_dataset))\n",
        "val_size = len(full_dataset) - train_size\n",
        "train_ds, val_ds = random_split(full_dataset, [train_size, val_size])\n",
        "train_dl = DataLoader(train_ds, batch_size=best_config['batch_size'], shuffle=True)\n",
        "val_dl = DataLoader(val_ds, batch_size=best_config['batch_size'])\n",
        "\n",
        "model = BertForSequenceClassification.from_pretrained('bert-base-uncased', num_labels=num_labels)\n",
        "model.to(device)\n",
        "optimizer = AdamW(model.parameters(), lr=best_config['lr'])\n",
        "\n",
        "train_losses, val_losses = [], []\n",
        "for epoch in range(5):\n",
        "    model.train()\n",
        "    total_loss = 0\n",
        "    for batch in train_dl:\n",
        "        batch = {k: v.to(device) for k, v in batch.items()}\n",
        "        outputs = model(**batch)\n",
        "        loss = outputs.loss\n",
        "        loss.backward()\n",
        "        optimizer.step()\n",
        "        optimizer.zero_grad()\n",
        "        total_loss += loss.item()\n",
        "    train_losses.append(total_loss / len(train_dl))\n",
        "\n",
        "    model.eval()\n",
        "    val_loss = 0\n",
        "    all_preds, all_labels = [], []\n",
        "    with torch.no_grad():\n",
        "        for batch in val_dl:\n",
        "            batch = {k: v.to(device) for k, v in batch.items()}\n",
        "            outputs = model(**batch)\n",
        "            val_loss += outputs.loss.item()\n",
        "            preds = torch.argmax(outputs.logits, dim=1)\n",
        "            all_preds.extend(preds.cpu().numpy())\n",
        "            all_labels.extend(batch['labels'].cpu().numpy())\n",
        "    val_losses.append(val_loss / len(val_dl))"
      ],
      "execution_count": null,
      "outputs": [
        {
          "output_type": "stream",
          "name": "stdout",
          "text": [
            "Best config: {'lr': 3e-05, 'batch_size': 8, 'accuracy': 0.7555970149253731, 'precision': 0.7880729179793061, 'recall': 0.7555970149253731, 'f1': 0.7551676285713057}\n"
          ]
        },
        {
          "output_type": "stream",
          "name": "stderr",
          "text": [
            "Some weights of BertForSequenceClassification were not initialized from the model checkpoint at bert-base-uncased and are newly initialized: ['classifier.bias', 'classifier.weight']\n",
            "You should probably TRAIN this model on a down-stream task to be able to use it for predictions and inference.\n"
          ]
        }
      ]
    },
    {
      "cell_type": "code",
      "metadata": {
        "colab": {
          "base_uri": "https://localhost:8080/",
          "height": 545
        },
        "id": "lOnTFHmY-FL2",
        "outputId": "0947cafa-5be5-415e-a62c-9a0334ef9656"
      },
      "source": [
        "# Save and evaluate\n",
        "model.save_pretrained(\"final_bert_model\")\n",
        "tokenizer.save_pretrained(\"final_bert_model\")\n",
        "\n",
        "from sklearn.metrics import accuracy_score, precision_score, recall_score, f1_score\n",
        "print(\"Final Accuracy:\", accuracy_score(all_labels, all_preds))\n",
        "print(\"Final Precision:\", precision_score(all_labels, all_preds, average='weighted', zero_division=0))\n",
        "print(\"Final Recall:\", recall_score(all_labels, all_preds, average='weighted', zero_division=0))\n",
        "print(\"Final F1 Score:\", f1_score(all_labels, all_preds, average='weighted', zero_division=0))\n",
        "\n",
        "plt.plot(train_losses, label='Train Loss')\n",
        "plt.plot(val_losses, label='Val Loss')\n",
        "plt.xlabel(\"Epoch\")\n",
        "plt.ylabel(\"Loss\")\n",
        "plt.title(\"Final Loss Curve\")\n",
        "plt.legend()\n",
        "plt.show()"
      ],
      "execution_count": null,
      "outputs": [
        {
          "output_type": "stream",
          "name": "stdout",
          "text": [
            "Final Accuracy: 0.7938760268857357\n",
            "Final Precision: 0.8178940525183409\n",
            "Final Recall: 0.7938760268857357\n",
            "Final F1 Score: 0.794246126149929\n"
          ]
        },
        {
          "output_type": "display_data",
          "data": {
            "text/plain": [
              "<Figure size 640x480 with 1 Axes>"
            ],
            "image/png": "[encoded data removed]"
          },
          "metadata": {}
        }
      ]
    },
    {
      "cell_type": "markdown",
      "source": [
        "Training Loss (blue) steadily decreases from 1.8 to 0.35 over 5 epochs indicates the model is learning well on the training data.\n",
        "\n",
        "Validation Loss (orange) decreases initially (till epoch 2), but starts increasing after epoch 3 this is a classic sign of overfitting.\n",
        "\n",
        "We can see that val loss is increasing after epoch 3 which is making model slight overfit so it is better to use epoch 3 instead of epoch 5 to train the model"
      ],
      "metadata": {
        "id": "kD9nrJ6ONMds"
      }
    },
    {
      "cell_type": "code",
      "source": [],
      "metadata": {
        "id": "7Hrl03_UNgUx"
      },
      "execution_count": null,
      "outputs": []
    }
  ],
  "metadata": {
    "kernelspec": {
      "display_name": "Python 3",
      "name": "python3"
    },
    "language_info": {
      "name": "python",
      "version": "3.8"
    },
    "colab": {
      "provenance": [],
      "gpuType": "T4"
    },
    "accelerator": "GPU",
    "widgets": {
      "application/vnd.jupyter.widget-state+json": {
        "3184d575cb804a519397d1e6728624dd": {
          "model_module": "@jupyter-widgets/controls",
          "model_name": "HBoxModel",
          "model_module_version": "1.5.0",
          "state": {
            "_dom_classes": [],
            "_model_module": "@jupyter-widgets/controls",
            "_model_module_version": "1.5.0",
            "_model_name": "HBoxModel",
            "_view_count": null,
            "_view_module": "@jupyter-widgets/controls",
            "_view_module_version": "1.5.0",
            "_view_name": "HBoxView",
            "box_style": "",
            "children": [
              "IPY_MODEL_d36b7e303a9b46cb9ac545a9d3395f70",
              "IPY_MODEL_cdc982073b9244a882815da7e6113fea",
              "IPY_MODEL_b03ed364405445e1b5f0ed8757f32f98"
            ],
            "layout": "IPY_MODEL_89a7f3de9f62499882aa1c16a6b168dc"
          }
        },
        "d36b7e303a9b46cb9ac545a9d3395f70": {
          "model_module": "@jupyter-widgets/controls",
          "model_name": "HTMLModel",
          "model_module_version": "1.5.0",
          "state": {
            "_dom_classes": [],
            "_model_module": "@jupyter-widgets/controls",
            "_model_module_version": "1.5.0",
            "_model_name": "HTMLModel",
            "_view_count": null,
            "_view_module": "@jupyter-widgets/controls",
            "_view_module_version": "1.5.0",
            "_view_name": "HTMLView",
            "description": "",
            "description_tooltip": null,
            "layout": "IPY_MODEL_a1456176d80648aaac75fe6cb0c0d8df",
            "placeholder": "​",
            "style": "IPY_MODEL_bdcfbf19663048feb6696f7b2883c4c9",
            "value": "tokenizer_config.json: 100%"
          }
        },
        "cdc982073b9244a882815da7e6113fea": {
          "model_module": "@jupyter-widgets/controls",
          "model_name": "FloatProgressModel",
          "model_module_version": "1.5.0",
          "state": {
            "_dom_classes": [],
            "_model_module": "@jupyter-widgets/controls",
            "_model_module_version": "1.5.0",
            "_model_name": "FloatProgressModel",
            "_view_count": null,
            "_view_module": "@jupyter-widgets/controls",
            "_view_module_version": "1.5.0",
            "_view_name": "ProgressView",
            "bar_style": "success",
            "description": "",
            "description_tooltip": null,
            "layout": "IPY_MODEL_fa564ebc37134fd999de9551f331aa29",
            "max": 48,
            "min": 0,
            "orientation": "horizontal",
            "style": "IPY_MODEL_abbc198c2bb64465a21bbec389ee6dc0",
            "value": 48
          }
        },
        "b03ed364405445e1b5f0ed8757f32f98": {
          "model_module": "@jupyter-widgets/controls",
          "model_name": "HTMLModel",
          "model_module_version": "1.5.0",
          "state": {
            "_dom_classes": [],
            "_model_module": "@jupyter-widgets/controls",
            "_model_module_version": "1.5.0",
            "_model_name": "HTMLModel",
            "_view_count": null,
            "_view_module": "@jupyter-widgets/controls",
            "_view_module_version": "1.5.0",
            "_view_name": "HTMLView",
            "description": "",
            "description_tooltip": null,
            "layout": "IPY_MODEL_7199d2009180451dbb9e856fc8234727",
            "placeholder": "​",
            "style": "IPY_MODEL_46e1df6bb23f41cab543bfd0c56dcdf4",
            "value": " 48.0/48.0 [00:00&lt;00:00, 5.11kB/s]"
          }
        },
        "89a7f3de9f62499882aa1c16a6b168dc": {
          "model_module": "@jupyter-widgets/base",
          "model_name": "LayoutModel",
          "model_module_version": "1.2.0",
          "state": {
            "_model_module": "@jupyter-widgets/base",
            "_model_module_version": "1.2.0",
            "_model_name": "LayoutModel",
            "_view_count": null,
            "_view_module": "@jupyter-widgets/base",
            "_view_module_version": "1.2.0",
            "_view_name": "LayoutView",
            "align_content": null,
            "align_items": null,
            "align_self": null,
            "border": null,
            "bottom": null,
            "display": null,
            "flex": null,
            "flex_flow": null,
            "grid_area": null,
            "grid_auto_columns": null,
            "grid_auto_flow": null,
            "grid_auto_rows": null,
            "grid_column": null,
            "grid_gap": null,
            "grid_row": null,
            "grid_template_areas": null,
            "grid_template_columns": null,
            "grid_template_rows": null,
            "height": null,
            "justify_content": null,
            "justify_items": null,
            "left": null,
            "margin": null,
            "max_height": null,
            "max_width": null,
            "min_height": null,
            "min_width": null,
            "object_fit": null,
            "object_position": null,
            "order": null,
            "overflow": null,
            "overflow_x": null,
            "overflow_y": null,
            "padding": null,
            "right": null,
            "top": null,
            "visibility": null,
            "width": null
          }
        },
        "a1456176d80648aaac75fe6cb0c0d8df": {
          "model_module": "@jupyter-widgets/base",
          "model_name": "LayoutModel",
          "model_module_version": "1.2.0",
          "state": {
            "_model_module": "@jupyter-widgets/base",
            "_model_module_version": "1.2.0",
            "_model_name": "LayoutModel",
            "_view_count": null,
            "_view_module": "@jupyter-widgets/base",
            "_view_module_version": "1.2.0",
            "_view_name": "LayoutView",
            "align_content": null,
            "align_items": null,
            "align_self": null,
            "border": null,
            "bottom": null,
            "display": null,
            "flex": null,
            "flex_flow": null,
            "grid_area": null,
            "grid_auto_columns": null,
            "grid_auto_flow": null,
            "grid_auto_rows": null,
            "grid_column": null,
            "grid_gap": null,
            "grid_row": null,
            "grid_template_areas": null,
            "grid_template_columns": null,
            "grid_template_rows": null,
            "height": null,
            "justify_content": null,
            "justify_items": null,
            "left": null,
            "margin": null,
            "max_height": null,
            "max_width": null,
            "min_height": null,
            "min_width": null,
            "object_fit": null,
            "object_position": null,
            "order": null,
            "overflow": null,
            "overflow_x": null,
            "overflow_y": null,
            "padding": null,
            "right": null,
            "top": null,
            "visibility": null,
            "width": null
          }
        },
        "bdcfbf19663048feb6696f7b2883c4c9": {
          "model_module": "@jupyter-widgets/controls",
          "model_name": "DescriptionStyleModel",
          "model_module_version": "1.5.0",
          "state": {
            "_model_module": "@jupyter-widgets/controls",
            "_model_module_version": "1.5.0",
            "_model_name": "DescriptionStyleModel",
            "_view_count": null,
            "_view_module": "@jupyter-widgets/base",
            "_view_module_version": "1.2.0",
            "_view_name": "StyleView",
            "description_width": ""
          }
        },
        "fa564ebc37134fd999de9551f331aa29": {
          "model_module": "@jupyter-widgets/base",
          "model_name": "LayoutModel",
          "model_module_version": "1.2.0",
          "state": {
            "_model_module": "@jupyter-widgets/base",
            "_model_module_version": "1.2.0",
            "_model_name": "LayoutModel",
            "_view_count": null,
            "_view_module": "@jupyter-widgets/base",
            "_view_module_version": "1.2.0",
            "_view_name": "LayoutView",
            "align_content": null,
            "align_items": null,
            "align_self": null,
            "border": null,
            "bottom": null,
            "display": null,
            "flex": null,
            "flex_flow": null,
            "grid_area": null,
            "grid_auto_columns": null,
            "grid_auto_flow": null,
            "grid_auto_rows": null,
            "grid_column": null,
            "grid_gap": null,
            "grid_row": null,
            "grid_template_areas": null,
            "grid_template_columns": null,
            "grid_template_rows": null,
            "height": null,
            "justify_content": null,
            "justify_items": null,
            "left": null,
            "margin": null,
            "max_height": null,
            "max_width": null,
            "min_height": null,
            "min_width": null,
            "object_fit": null,
            "object_position": null,
            "order": null,
            "overflow": null,
            "overflow_x": null,
            "overflow_y": null,
            "padding": null,
            "right": null,
            "top": null,
            "visibility": null,
            "width": null
          }
        },
        "abbc198c2bb64465a21bbec389ee6dc0": {
          "model_module": "@jupyter-widgets/controls",
          "model_name": "ProgressStyleModel",
          "model_module_version": "1.5.0",
          "state": {
            "_model_module": "@jupyter-widgets/controls",
            "_model_module_version": "1.5.0",
            "_model_name": "ProgressStyleModel",
            "_view_count": null,
            "_view_module": "@jupyter-widgets/base",
            "_view_module_version": "1.2.0",
            "_view_name": "StyleView",
            "bar_color": null,
            "description_width": ""
          }
        },
        "7199d2009180451dbb9e856fc8234727": {
          "model_module": "@jupyter-widgets/base",
          "model_name": "LayoutModel",
          "model_module_version": "1.2.0",
          "state": {
            "_model_module": "@jupyter-widgets/base",
            "_model_module_version": "1.2.0",
            "_model_name": "LayoutModel",
            "_view_count": null,
            "_view_module": "@jupyter-widgets/base",
            "_view_module_version": "1.2.0",
            "_view_name": "LayoutView",
            "align_content": null,
            "align_items": null,
            "align_self": null,
            "border": null,
            "bottom": null,
            "display": null,
            "flex": null,
            "flex_flow": null,
            "grid_area": null,
            "grid_auto_columns": null,
            "grid_auto_flow": null,
            "grid_auto_rows": null,
            "grid_column": null,
            "grid_gap": null,
            "grid_row": null,
            "grid_template_areas": null,
            "grid_template_columns": null,
            "grid_template_rows": null,
            "height": null,
            "justify_content": null,
            "justify_items": null,
            "left": null,
            "margin": null,
            "max_height": null,
            "max_width": null,
            "min_height": null,
            "min_width": null,
            "object_fit": null,
            "object_position": null,
            "order": null,
            "overflow": null,
            "overflow_x": null,
            "overflow_y": null,
            "padding": null,
            "right": null,
            "top": null,
            "visibility": null,
            "width": null
          }
        },
        "46e1df6bb23f41cab543bfd0c56dcdf4": {
          "model_module": "@jupyter-widgets/controls",
          "model_name": "DescriptionStyleModel",
          "model_module_version": "1.5.0",
          "state": {
            "_model_module": "@jupyter-widgets/controls",
            "_model_module_version": "1.5.0",
            "_model_name": "DescriptionStyleModel",
            "_view_count": null,
            "_view_module": "@jupyter-widgets/base",
            "_view_module_version": "1.2.0",
            "_view_name": "StyleView",
            "description_width": ""
          }
        },
        "3cd0afdfd0284b619977fd888272d12a": {
          "model_module": "@jupyter-widgets/controls",
          "model_name": "HBoxModel",
          "model_module_version": "1.5.0",
          "state": {
            "_dom_classes": [],
            "_model_module": "@jupyter-widgets/controls",
            "_model_module_version": "1.5.0",
            "_model_name": "HBoxModel",
            "_view_count": null,
            "_view_module": "@jupyter-widgets/controls",
            "_view_module_version": "1.5.0",
            "_view_name": "HBoxView",
            "box_style": "",
            "children": [
              "IPY_MODEL_70883c3ca9da41538e64b3b86a0bb070",
              "IPY_MODEL_2d16cbd0f3314873babd6d49257164f2",
              "IPY_MODEL_7cc10b99773c49f2b1f718b5f071b46b"
            ],
            "layout": "IPY_MODEL_2456cc2c02034f56bac4ba071e194323"
          }
        },
        "70883c3ca9da41538e64b3b86a0bb070": {
          "model_module": "@jupyter-widgets/controls",
          "model_name": "HTMLModel",
          "model_module_version": "1.5.0",
          "state": {
            "_dom_classes": [],
            "_model_module": "@jupyter-widgets/controls",
            "_model_module_version": "1.5.0",
            "_model_name": "HTMLModel",
            "_view_count": null,
            "_view_module": "@jupyter-widgets/controls",
            "_view_module_version": "1.5.0",
            "_view_name": "HTMLView",
            "description": "",
            "description_tooltip": null,
            "layout": "IPY_MODEL_f991ec40bc8c4b55938bc5a98ccf7540",
            "placeholder": "​",
            "style": "IPY_MODEL_d298a3c5bf964a9f8f04670ad40895b2",
            "value": "vocab.txt: 100%"
          }
        },
        "2d16cbd0f3314873babd6d49257164f2": {
          "model_module": "@jupyter-widgets/controls",
          "model_name": "FloatProgressModel",
          "model_module_version": "1.5.0",
          "state": {
            "_dom_classes": [],
            "_model_module": "@jupyter-widgets/controls",
            "_model_module_version": "1.5.0",
            "_model_name": "FloatProgressModel",
            "_view_count": null,
            "_view_module": "@jupyter-widgets/controls",
            "_view_module_version": "1.5.0",
            "_view_name": "ProgressView",
            "bar_style": "success",
            "description": "",
            "description_tooltip": null,
            "layout": "IPY_MODEL_63d1ad3781134db987dabe64357e990c",
            "max": 231508,
            "min": 0,
            "orientation": "horizontal",
            "style": "IPY_MODEL_6c1753c46fa346019554bf9b89aa6d28",
            "value": 231508
          }
        },
        "7cc10b99773c49f2b1f718b5f071b46b": {
          "model_module": "@jupyter-widgets/controls",
          "model_name": "HTMLModel",
          "model_module_version": "1.5.0",
          "state": {
            "_dom_classes": [],
            "_model_module": "@jupyter-widgets/controls",
            "_model_module_version": "1.5.0",
            "_model_name": "HTMLModel",
            "_view_count": null,
            "_view_module": "@jupyter-widgets/controls",
            "_view_module_version": "1.5.0",
            "_view_name": "HTMLView",
            "description": "",
            "description_tooltip": null,
            "layout": "IPY_MODEL_a400254737654badab3fc028109e7e63",
            "placeholder": "​",
            "style": "IPY_MODEL_ddfeb47af4f242009fb933bd2fa2af31",
            "value": " 232k/232k [00:00&lt;00:00, 11.8MB/s]"
          }
        },
        "2456cc2c02034f56bac4ba071e194323": {
          "model_module": "@jupyter-widgets/base",
          "model_name": "LayoutModel",
          "model_module_version": "1.2.0",
          "state": {
            "_model_module": "@jupyter-widgets/base",
            "_model_module_version": "1.2.0",
            "_model_name": "LayoutModel",
            "_view_count": null,
            "_view_module": "@jupyter-widgets/base",
            "_view_module_version": "1.2.0",
            "_view_name": "LayoutView",
            "align_content": null,
            "align_items": null,
            "align_self": null,
            "border": null,
            "bottom": null,
            "display": null,
            "flex": null,
            "flex_flow": null,
            "grid_area": null,
            "grid_auto_columns": null,
            "grid_auto_flow": null,
            "grid_auto_rows": null,
            "grid_column": null,
            "grid_gap": null,
            "grid_row": null,
            "grid_template_areas": null,
            "grid_template_columns": null,
            "grid_template_rows": null,
            "height": null,
            "justify_content": null,
            "justify_items": null,
            "left": null,
            "margin": null,
            "max_height": null,
            "max_width": null,
            "min_height": null,
            "min_width": null,
            "object_fit": null,
            "object_position": null,
            "order": null,
            "overflow": null,
            "overflow_x": null,
            "overflow_y": null,
            "padding": null,
            "right": null,
            "top": null,
            "visibility": null,
            "width": null
          }
        },
        "f991ec40bc8c4b55938bc5a98ccf7540": {
          "model_module": "@jupyter-widgets/base",
          "model_name": "LayoutModel",
          "model_module_version": "1.2.0",
          "state": {
            "_model_module": "@jupyter-widgets/base",
            "_model_module_version": "1.2.0",
            "_model_name": "LayoutModel",
            "_view_count": null,
            "_view_module": "@jupyter-widgets/base",
            "_view_module_version": "1.2.0",
            "_view_name": "LayoutView",
            "align_content": null,
            "align_items": null,
            "align_self": null,
            "border": null,
            "bottom": null,
            "display": null,
            "flex": null,
            "flex_flow": null,
            "grid_area": null,
            "grid_auto_columns": null,
            "grid_auto_flow": null,
            "grid_auto_rows": null,
            "grid_column": null,
            "grid_gap": null,
            "grid_row": null,
            "grid_template_areas": null,
            "grid_template_columns": null,
            "grid_template_rows": null,
            "height": null,
            "justify_content": null,
            "justify_items": null,
            "left": null,
            "margin": null,
            "max_height": null,
            "max_width": null,
            "min_height": null,
            "min_width": null,
            "object_fit": null,
            "object_position": null,
            "order": null,
            "overflow": null,
            "overflow_x": null,
            "overflow_y": null,
            "padding": null,
            "right": null,
            "top": null,
            "visibility": null,
            "width": null
          }
        },
        "d298a3c5bf964a9f8f04670ad40895b2": {
          "model_module": "@jupyter-widgets/controls",
          "model_name": "DescriptionStyleModel",
          "model_module_version": "1.5.0",
          "state": {
            "_model_module": "@jupyter-widgets/controls",
            "_model_module_version": "1.5.0",
            "_model_name": "DescriptionStyleModel",
            "_view_count": null,
            "_view_module": "@jupyter-widgets/base",
            "_view_module_version": "1.2.0",
            "_view_name": "StyleView",
            "description_width": ""
          }
        },
        "63d1ad3781134db987dabe64357e990c": {
          "model_module": "@jupyter-widgets/base",
          "model_name": "LayoutModel",
          "model_module_version": "1.2.0",
          "state": {
            "_model_module": "@jupyter-widgets/base",
            "_model_module_version": "1.2.0",
            "_model_name": "LayoutModel",
            "_view_count": null,
            "_view_module": "@jupyter-widgets/base",
            "_view_module_version": "1.2.0",
            "_view_name": "LayoutView",
            "align_content": null,
            "align_items": null,
            "align_self": null,
            "border": null,
            "bottom": null,
            "display": null,
            "flex": null,
            "flex_flow": null,
            "grid_area": null,
            "grid_auto_columns": null,
            "grid_auto_flow": null,
            "grid_auto_rows": null,
            "grid_column": null,
            "grid_gap": null,
            "grid_row": null,
            "grid_template_areas": null,
            "grid_template_columns": null,
            "grid_template_rows": null,
            "height": null,
            "justify_content": null,
            "justify_items": null,
            "left": null,
            "margin": null,
            "max_height": null,
            "max_width": null,
            "min_height": null,
            "min_width": null,
            "object_fit": null,
            "object_position": null,
            "order": null,
            "overflow": null,
            "overflow_x": null,
            "overflow_y": null,
            "padding": null,
            "right": null,
            "top": null,
            "visibility": null,
            "width": null
          }
        },
        "6c1753c46fa346019554bf9b89aa6d28": {
          "model_module": "@jupyter-widgets/controls",
          "model_name": "ProgressStyleModel",
          "model_module_version": "1.5.0",
          "state": {
            "_model_module": "@jupyter-widgets/controls",
            "_model_module_version": "1.5.0",
            "_model_name": "ProgressStyleModel",
            "_view_count": null,
            "_view_module": "@jupyter-widgets/base",
            "_view_module_version": "1.2.0",
            "_view_name": "StyleView",
            "bar_color": null,
            "description_width": ""
          }
        },
        "a400254737654badab3fc028109e7e63": {
          "model_module": "@jupyter-widgets/base",
          "model_name": "LayoutModel",
          "model_module_version": "1.2.0",
          "state": {
            "_model_module": "@jupyter-widgets/base",
            "_model_module_version": "1.2.0",
            "_model_name": "LayoutModel",
            "_view_count": null,
            "_view_module": "@jupyter-widgets/base",
            "_view_module_version": "1.2.0",
            "_view_name": "LayoutView",
            "align_content": null,
            "align_items": null,
            "align_self": null,
            "border": null,
            "bottom": null,
            "display": null,
            "flex": null,
            "flex_flow": null,
            "grid_area": null,
            "grid_auto_columns": null,
            "grid_auto_flow": null,
            "grid_auto_rows": null,
            "grid_column": null,
            "grid_gap": null,
            "grid_row": null,
            "grid_template_areas": null,
            "grid_template_columns": null,
            "grid_template_rows": null,
            "height": null,
            "justify_content": null,
            "justify_items": null,
            "left": null,
            "margin": null,
            "max_height": null,
            "max_width": null,
            "min_height": null,
            "min_width": null,
            "object_fit": null,
            "object_position": null,
            "order": null,
            "overflow": null,
            "overflow_x": null,
            "overflow_y": null,
            "padding": null,
            "right": null,
            "top": null,
            "visibility": null,
            "width": null
          }
        },
        "ddfeb47af4f242009fb933bd2fa2af31": {
          "model_module": "@jupyter-widgets/controls",
          "model_name": "DescriptionStyleModel",
          "model_module_version": "1.5.0",
          "state": {
            "_model_module": "@jupyter-widgets/controls",
            "_model_module_version": "1.5.0",
            "_model_name": "DescriptionStyleModel",
            "_view_count": null,
            "_view_module": "@jupyter-widgets/base",
            "_view_module_version": "1.2.0",
            "_view_name": "StyleView",
            "description_width": ""
          }
        },
        "70d6f9211b49479c9176005d7e0e0250": {
          "model_module": "@jupyter-widgets/controls",
          "model_name": "HBoxModel",
          "model_module_version": "1.5.0",
          "state": {
            "_dom_classes": [],
            "_model_module": "@jupyter-widgets/controls",
            "_model_module_version": "1.5.0",
            "_model_name": "HBoxModel",
            "_view_count": null,
            "_view_module": "@jupyter-widgets/controls",
            "_view_module_version": "1.5.0",
            "_view_name": "HBoxView",
            "box_style": "",
            "children": [
              "IPY_MODEL_3724b7350cd247ad81a0fa5c17768b54",
              "IPY_MODEL_9510a45a9a77480da810ee17aa5b672a",
              "IPY_MODEL_cba4f8e87f3543f584ccc0fc58068d0a"
            ],
            "layout": "IPY_MODEL_1bba4a69fbc64e3090caa2dafb515e5f"
          }
        },
        "3724b7350cd247ad81a0fa5c17768b54": {
          "model_module": "@jupyter-widgets/controls",
          "model_name": "HTMLModel",
          "model_module_version": "1.5.0",
          "state": {
            "_dom_classes": [],
            "_model_module": "@jupyter-widgets/controls",
            "_model_module_version": "1.5.0",
            "_model_name": "HTMLModel",
            "_view_count": null,
            "_view_module": "@jupyter-widgets/controls",
            "_view_module_version": "1.5.0",
            "_view_name": "HTMLView",
            "description": "",
            "description_tooltip": null,
            "layout": "IPY_MODEL_9d8847c1238b4e82938c3c2978ee9a3c",
            "placeholder": "​",
            "style": "IPY_MODEL_9c00925681754d1286759245035a97d3",
            "value": "tokenizer.json: 100%"
          }
        },
        "9510a45a9a77480da810ee17aa5b672a": {
          "model_module": "@jupyter-widgets/controls",
          "model_name": "FloatProgressModel",
          "model_module_version": "1.5.0",
          "state": {
            "_dom_classes": [],
            "_model_module": "@jupyter-widgets/controls",
            "_model_module_version": "1.5.0",
            "_model_name": "FloatProgressModel",
            "_view_count": null,
            "_view_module": "@jupyter-widgets/controls",
            "_view_module_version": "1.5.0",
            "_view_name": "ProgressView",
            "bar_style": "success",
            "description": "",
            "description_tooltip": null,
            "layout": "IPY_MODEL_d3c5e35bac3f4e6098ddca8e199b68f4",
            "max": 466062,
            "min": 0,
            "orientation": "horizontal",
            "style": "IPY_MODEL_dec8ec73ac504afba5fd8870722e8494",
            "value": 466062
          }
        },
        "cba4f8e87f3543f584ccc0fc58068d0a": {
          "model_module": "@jupyter-widgets/controls",
          "model_name": "HTMLModel",
          "model_module_version": "1.5.0",
          "state": {
            "_dom_classes": [],
            "_model_module": "@jupyter-widgets/controls",
            "_model_module_version": "1.5.0",
            "_model_name": "HTMLModel",
            "_view_count": null,
            "_view_module": "@jupyter-widgets/controls",
            "_view_module_version": "1.5.0",
            "_view_name": "HTMLView",
            "description": "",
            "description_tooltip": null,
            "layout": "IPY_MODEL_1eb766083f9b4c2b8b8942e3101c9984",
            "placeholder": "​",
            "style": "IPY_MODEL_99d54feea6e04ba6befedda401254d1a",
            "value": " 466k/466k [00:00&lt;00:00, 16.2MB/s]"
          }
        },
        "1bba4a69fbc64e3090caa2dafb515e5f": {
          "model_module": "@jupyter-widgets/base",
          "model_name": "LayoutModel",
          "model_module_version": "1.2.0",
          "state": {
            "_model_module": "@jupyter-widgets/base",
            "_model_module_version": "1.2.0",
            "_model_name": "LayoutModel",
            "_view_count": null,
            "_view_module": "@jupyter-widgets/base",
            "_view_module_version": "1.2.0",
            "_view_name": "LayoutView",
            "align_content": null,
            "align_items": null,
            "align_self": null,
            "border": null,
            "bottom": null,
            "display": null,
            "flex": null,
            "flex_flow": null,
            "grid_area": null,
            "grid_auto_columns": null,
            "grid_auto_flow": null,
            "grid_auto_rows": null,
            "grid_column": null,
            "grid_gap": null,
            "grid_row": null,
            "grid_template_areas": null,
            "grid_template_columns": null,
            "grid_template_rows": null,
            "height": null,
            "justify_content": null,
            "justify_items": null,
            "left": null,
            "margin": null,
            "max_height": null,
            "max_width": null,
            "min_height": null,
            "min_width": null,
            "object_fit": null,
            "object_position": null,
            "order": null,
            "overflow": null,
            "overflow_x": null,
            "overflow_y": null,
            "padding": null,
            "right": null,
            "top": null,
            "visibility": null,
            "width": null
          }
        },
        "9d8847c1238b4e82938c3c2978ee9a3c": {
          "model_module": "@jupyter-widgets/base",
          "model_name": "LayoutModel",
          "model_module_version": "1.2.0",
          "state": {
            "_model_module": "@jupyter-widgets/base",
            "_model_module_version": "1.2.0",
            "_model_name": "LayoutModel",
            "_view_count": null,
            "_view_module": "@jupyter-widgets/base",
            "_view_module_version": "1.2.0",
            "_view_name": "LayoutView",
            "align_content": null,
            "align_items": null,
            "align_self": null,
            "border": null,
            "bottom": null,
            "display": null,
            "flex": null,
            "flex_flow": null,
            "grid_area": null,
            "grid_auto_columns": null,
            "grid_auto_flow": null,
            "grid_auto_rows": null,
            "grid_column": null,
            "grid_gap": null,
            "grid_row": null,
            "grid_template_areas": null,
            "grid_template_columns": null,
            "grid_template_rows": null,
            "height": null,
            "justify_content": null,
            "justify_items": null,
            "left": null,
            "margin": null,
            "max_height": null,
            "max_width": null,
            "min_height": null,
            "min_width": null,
            "object_fit": null,
            "object_position": null,
            "order": null,
            "overflow": null,
            "overflow_x": null,
            "overflow_y": null,
            "padding": null,
            "right": null,
            "top": null,
            "visibility": null,
            "width": null
          }
        },
        "9c00925681754d1286759245035a97d3": {
          "model_module": "@jupyter-widgets/controls",
          "model_name": "DescriptionStyleModel",
          "model_module_version": "1.5.0",
          "state": {
            "_model_module": "@jupyter-widgets/controls",
            "_model_module_version": "1.5.0",
            "_model_name": "DescriptionStyleModel",
            "_view_count": null,
            "_view_module": "@jupyter-widgets/base",
            "_view_module_version": "1.2.0",
            "_view_name": "StyleView",
            "description_width": ""
          }
        },
        "d3c5e35bac3f4e6098ddca8e199b68f4": {
          "model_module": "@jupyter-widgets/base",
          "model_name": "LayoutModel",
          "model_module_version": "1.2.0",
          "state": {
            "_model_module": "@jupyter-widgets/base",
            "_model_module_version": "1.2.0",
            "_model_name": "LayoutModel",
            "_view_count": null,
            "_view_module": "@jupyter-widgets/base",
            "_view_module_version": "1.2.0",
            "_view_name": "LayoutView",
            "align_content": null,
            "align_items": null,
            "align_self": null,
            "border": null,
            "bottom": null,
            "display": null,
            "flex": null,
            "flex_flow": null,
            "grid_area": null,
            "grid_auto_columns": null,
            "grid_auto_flow": null,
            "grid_auto_rows": null,
            "grid_column": null,
            "grid_gap": null,
            "grid_row": null,
            "grid_template_areas": null,
            "grid_template_columns": null,
            "grid_template_rows": null,
            "height": null,
            "justify_content": null,
            "justify_items": null,
            "left": null,
            "margin": null,
            "max_height": null,
            "max_width": null,
            "min_height": null,
            "min_width": null,
            "object_fit": null,
            "object_position": null,
            "order": null,
            "overflow": null,
            "overflow_x": null,
            "overflow_y": null,
            "padding": null,
            "right": null,
            "top": null,
            "visibility": null,
            "width": null
          }
        },
        "dec8ec73ac504afba5fd8870722e8494": {
          "model_module": "@jupyter-widgets/controls",
          "model_name": "ProgressStyleModel",
          "model_module_version": "1.5.0",
          "state": {
            "_model_module": "@jupyter-widgets/controls",
            "_model_module_version": "1.5.0",
            "_model_name": "ProgressStyleModel",
            "_view_count": null,
            "_view_module": "@jupyter-widgets/base",
            "_view_module_version": "1.2.0",
            "_view_name": "StyleView",
            "bar_color": null,
            "description_width": ""
          }
        },
        "1eb766083f9b4c2b8b8942e3101c9984": {
          "model_module": "@jupyter-widgets/base",
          "model_name": "LayoutModel",
          "model_module_version": "1.2.0",
          "state": {
            "_model_module": "@jupyter-widgets/base",
            "_model_module_version": "1.2.0",
            "_model_name": "LayoutModel",
            "_view_count": null,
            "_view_module": "@jupyter-widgets/base",
            "_view_module_version": "1.2.0",
            "_view_name": "LayoutView",
            "align_content": null,
            "align_items": null,
            "align_self": null,
            "border": null,
            "bottom": null,
            "display": null,
            "flex": null,
            "flex_flow": null,
            "grid_area": null,
            "grid_auto_columns": null,
            "grid_auto_flow": null,
            "grid_auto_rows": null,
            "grid_column": null,
            "grid_gap": null,
            "grid_row": null,
            "grid_template_areas": null,
            "grid_template_columns": null,
            "grid_template_rows": null,
            "height": null,
            "justify_content": null,
            "justify_items": null,
            "left": null,
            "margin": null,
            "max_height": null,
            "max_width": null,
            "min_height": null,
            "min_width": null,
            "object_fit": null,
            "object_position": null,
            "order": null,
            "overflow": null,
            "overflow_x": null,
            "overflow_y": null,
            "padding": null,
            "right": null,
            "top": null,
            "visibility": null,
            "width": null
          }
        },
        "99d54feea6e04ba6befedda401254d1a": {
          "model_module": "@jupyter-widgets/controls",
          "model_name": "DescriptionStyleModel",
          "model_module_version": "1.5.0",
          "state": {
            "_model_module": "@jupyter-widgets/controls",
            "_model_module_version": "1.5.0",
            "_model_name": "DescriptionStyleModel",
            "_view_count": null,
            "_view_module": "@jupyter-widgets/base",
            "_view_module_version": "1.2.0",
            "_view_name": "StyleView",
            "description_width": ""
          }
        },
        "f22770631b6548e794254aaaaf1d0d7e": {
          "model_module": "@jupyter-widgets/controls",
          "model_name": "HBoxModel",
          "model_module_version": "1.5.0",
          "state": {
            "_dom_classes": [],
            "_model_module": "@jupyter-widgets/controls",
            "_model_module_version": "1.5.0",
            "_model_name": "HBoxModel",
            "_view_count": null,
            "_view_module": "@jupyter-widgets/controls",
            "_view_module_version": "1.5.0",
            "_view_name": "HBoxView",
            "box_style": "",
            "children": [
              "IPY_MODEL_f14164e6db864750affde05879539b34",
              "IPY_MODEL_edf6480bdcad40a88ac5b75d735cf707",
              "IPY_MODEL_b1c8873e4f1446aca2624524231088f8"
            ],
            "layout": "IPY_MODEL_eb624ba227734c92bbdb385810f65a49"
          }
        },
        "f14164e6db864750affde05879539b34": {
          "model_module": "@jupyter-widgets/controls",
          "model_name": "HTMLModel",
          "model_module_version": "1.5.0",
          "state": {
            "_dom_classes": [],
            "_model_module": "@jupyter-widgets/controls",
            "_model_module_version": "1.5.0",
            "_model_name": "HTMLModel",
            "_view_count": null,
            "_view_module": "@jupyter-widgets/controls",
            "_view_module_version": "1.5.0",
            "_view_name": "HTMLView",
            "description": "",
            "description_tooltip": null,
            "layout": "IPY_MODEL_a2e21afe82334a67b594a8eba0d62807",
            "placeholder": "​",
            "style": "IPY_MODEL_84933dc8075c4e28a0d0f7be8706c8e4",
            "value": "config.json: 100%"
          }
        },
        "edf6480bdcad40a88ac5b75d735cf707": {
          "model_module": "@jupyter-widgets/controls",
          "model_name": "FloatProgressModel",
          "model_module_version": "1.5.0",
          "state": {
            "_dom_classes": [],
            "_model_module": "@jupyter-widgets/controls",
            "_model_module_version": "1.5.0",
            "_model_name": "FloatProgressModel",
            "_view_count": null,
            "_view_module": "@jupyter-widgets/controls",
            "_view_module_version": "1.5.0",
            "_view_name": "ProgressView",
            "bar_style": "success",
            "description": "",
            "description_tooltip": null,
            "layout": "IPY_MODEL_57da9d20236644b4b74bb372f794a12b",
            "max": 570,
            "min": 0,
            "orientation": "horizontal",
            "style": "IPY_MODEL_57e94d0209364366987b9e4158bee342",
            "value": 570
          }
        },
        "b1c8873e4f1446aca2624524231088f8": {
          "model_module": "@jupyter-widgets/controls",
          "model_name": "HTMLModel",
          "model_module_version": "1.5.0",
          "state": {
            "_dom_classes": [],
            "_model_module": "@jupyter-widgets/controls",
            "_model_module_version": "1.5.0",
            "_model_name": "HTMLModel",
            "_view_count": null,
            "_view_module": "@jupyter-widgets/controls",
            "_view_module_version": "1.5.0",
            "_view_name": "HTMLView",
            "description": "",
            "description_tooltip": null,
            "layout": "IPY_MODEL_b51714a9593d42e89fcc7355c53e3f31",
            "placeholder": "​",
            "style": "IPY_MODEL_76be37ea99f84735896bde7e61e95c2c",
            "value": " 570/570 [00:00&lt;00:00, 37.2kB/s]"
          }
        },
        "eb624ba227734c92bbdb385810f65a49": {
          "model_module": "@jupyter-widgets/base",
          "model_name": "LayoutModel",
          "model_module_version": "1.2.0",
          "state": {
            "_model_module": "@jupyter-widgets/base",
            "_model_module_version": "1.2.0",
            "_model_name": "LayoutModel",
            "_view_count": null,
            "_view_module": "@jupyter-widgets/base",
            "_view_module_version": "1.2.0",
            "_view_name": "LayoutView",
            "align_content": null,
            "align_items": null,
            "align_self": null,
            "border": null,
            "bottom": null,
            "display": null,
            "flex": null,
            "flex_flow": null,
            "grid_area": null,
            "grid_auto_columns": null,
            "grid_auto_flow": null,
            "grid_auto_rows": null,
            "grid_column": null,
            "grid_gap": null,
            "grid_row": null,
            "grid_template_areas": null,
            "grid_template_columns": null,
            "grid_template_rows": null,
            "height": null,
            "justify_content": null,
            "justify_items": null,
            "left": null,
            "margin": null,
            "max_height": null,
            "max_width": null,
            "min_height": null,
            "min_width": null,
            "object_fit": null,
            "object_position": null,
            "order": null,
            "overflow": null,
            "overflow_x": null,
            "overflow_y": null,
            "padding": null,
            "right": null,
            "top": null,
            "visibility": null,
            "width": null
          }
        },
        "a2e21afe82334a67b594a8eba0d62807": {
          "model_module": "@jupyter-widgets/base",
          "model_name": "LayoutModel",
          "model_module_version": "1.2.0",
          "state": {
            "_model_module": "@jupyter-widgets/base",
            "_model_module_version": "1.2.0",
            "_model_name": "LayoutModel",
            "_view_count": null,
            "_view_module": "@jupyter-widgets/base",
            "_view_module_version": "1.2.0",
            "_view_name": "LayoutView",
            "align_content": null,
            "align_items": null,
            "align_self": null,
            "border": null,
            "bottom": null,
            "display": null,
            "flex": null,
            "flex_flow": null,
            "grid_area": null,
            "grid_auto_columns": null,
            "grid_auto_flow": null,
            "grid_auto_rows": null,
            "grid_column": null,
            "grid_gap": null,
            "grid_row": null,
            "grid_template_areas": null,
            "grid_template_columns": null,
            "grid_template_rows": null,
            "height": null,
            "justify_content": null,
            "justify_items": null,
            "left": null,
            "margin": null,
            "max_height": null,
            "max_width": null,
            "min_height": null,
            "min_width": null,
            "object_fit": null,
            "object_position": null,
            "order": null,
            "overflow": null,
            "overflow_x": null,
            "overflow_y": null,
            "padding": null,
            "right": null,
            "top": null,
            "visibility": null,
            "width": null
          }
        },
        "84933dc8075c4e28a0d0f7be8706c8e4": {
          "model_module": "@jupyter-widgets/controls",
          "model_name": "DescriptionStyleModel",
          "model_module_version": "1.5.0",
          "state": {
            "_model_module": "@jupyter-widgets/controls",
            "_model_module_version": "1.5.0",
            "_model_name": "DescriptionStyleModel",
            "_view_count": null,
            "_view_module": "@jupyter-widgets/base",
            "_view_module_version": "1.2.0",
            "_view_name": "StyleView",
            "description_width": ""
          }
        },
        "57da9d20236644b4b74bb372f794a12b": {
          "model_module": "@jupyter-widgets/base",
          "model_name": "LayoutModel",
          "model_module_version": "1.2.0",
          "state": {
            "_model_module": "@jupyter-widgets/base",
            "_model_module_version": "1.2.0",
            "_model_name": "LayoutModel",
            "_view_count": null,
            "_view_module": "@jupyter-widgets/base",
            "_view_module_version": "1.2.0",
            "_view_name": "LayoutView",
            "align_content": null,
            "align_items": null,
            "align_self": null,
            "border": null,
            "bottom": null,
            "display": null,
            "flex": null,
            "flex_flow": null,
            "grid_area": null,
            "grid_auto_columns": null,
            "grid_auto_flow": null,
            "grid_auto_rows": null,
            "grid_column": null,
            "grid_gap": null,
            "grid_row": null,
            "grid_template_areas": null,
            "grid_template_columns": null,
            "grid_template_rows": null,
            "height": null,
            "justify_content": null,
            "justify_items": null,
            "left": null,
            "margin": null,
            "max_height": null,
            "max_width": null,
            "min_height": null,
            "min_width": null,
            "object_fit": null,
            "object_position": null,
            "order": null,
            "overflow": null,
            "overflow_x": null,
            "overflow_y": null,
            "padding": null,
            "right": null,
            "top": null,
            "visibility": null,
            "width": null
          }
        },
        "57e94d0209364366987b9e4158bee342": {
          "model_module": "@jupyter-widgets/controls",
          "model_name": "ProgressStyleModel",
          "model_module_version": "1.5.0",
          "state": {
            "_model_module": "@jupyter-widgets/controls",
            "_model_module_version": "1.5.0",
            "_model_name": "ProgressStyleModel",
            "_view_count": null,
            "_view_module": "@jupyter-widgets/base",
            "_view_module_version": "1.2.0",
            "_view_name": "StyleView",
            "bar_color": null,
            "description_width": ""
          }
        },
        "b51714a9593d42e89fcc7355c53e3f31": {
          "model_module": "@jupyter-widgets/base",
          "model_name": "LayoutModel",
          "model_module_version": "1.2.0",
          "state": {
            "_model_module": "@jupyter-widgets/base",
            "_model_module_version": "1.2.0",
            "_model_name": "LayoutModel",
            "_view_count": null,
            "_view_module": "@jupyter-widgets/base",
            "_view_module_version": "1.2.0",
            "_view_name": "LayoutView",
            "align_content": null,
            "align_items": null,
            "align_self": null,
            "border": null,
            "bottom": null,
            "display": null,
            "flex": null,
            "flex_flow": null,
            "grid_area": null,
            "grid_auto_columns": null,
            "grid_auto_flow": null,
            "grid_auto_rows": null,
            "grid_column": null,
            "grid_gap": null,
            "grid_row": null,
            "grid_template_areas": null,
            "grid_template_columns": null,
            "grid_template_rows": null,
            "height": null,
            "justify_content": null,
            "justify_items": null,
            "left": null,
            "margin": null,
            "max_height": null,
            "max_width": null,
            "min_height": null,
            "min_width": null,
            "object_fit": null,
            "object_position": null,
            "order": null,
            "overflow": null,
            "overflow_x": null,
            "overflow_y": null,
            "padding": null,
            "right": null,
            "top": null,
            "visibility": null,
            "width": null
          }
        },
        "76be37ea99f84735896bde7e61e95c2c": {
          "model_module": "@jupyter-widgets/controls",
          "model_name": "DescriptionStyleModel",
          "model_module_version": "1.5.0",
          "state": {
            "_model_module": "@jupyter-widgets/controls",
            "_model_module_version": "1.5.0",
            "_model_name": "DescriptionStyleModel",
            "_view_count": null,
            "_view_module": "@jupyter-widgets/base",
            "_view_module_version": "1.2.0",
            "_view_name": "StyleView",
            "description_width": ""
          }
        }
      }
    }
  },
  "nbformat": 4,
  "nbformat_minor": 0
}